{
 "cells": [
  {
   "cell_type": "code",
   "execution_count": 1,
   "id": "c526ed82",
   "metadata": {
    "execution": {
     "iopub.execute_input": "2023-04-22T02:19:43.684552Z",
     "iopub.status.busy": "2023-04-22T02:19:43.684248Z",
     "iopub.status.idle": "2023-04-22T02:19:53.284283Z",
     "shell.execute_reply": "2023-04-22T02:19:53.282806Z",
     "shell.execute_reply.started": "2023-04-22T02:19:43.684524Z"
    }
   },
   "outputs": [],
   "source": [
    "import os\n",
    "import re\n",
    "import pickle\n",
    "import string\n",
    "import unicodedata\n",
    "from random import randint\n",
    "\n",
    "import numpy as np\n",
    "import pandas as pd\n",
    "import seaborn as sns\n",
    "import matplotlib.pyplot as plt\n",
    "\n",
    "from nltk.corpus import stopwords\n",
    "from wordcloud import STOPWORDS, WordCloud\n",
    "\n",
    "from sklearn.model_selection import train_test_split\n",
    "\n",
    "import tensorflow as tf\n",
    "from tensorflow.keras import Input, Model\n",
    "from tensorflow.keras.preprocessing.text import Tokenizer\n",
    "from tensorflow.keras.preprocessing.sequence import pad_sequences\n",
    "from tensorflow.keras.callbacks import EarlyStopping, ReduceLROnPlateau\n",
    "from tensorflow.keras.layers import LSTM, Bidirectional, Dense, Embedding, TimeDistributed"
   ]
  },
  {
   "cell_type": "code",
   "execution_count": 3,
   "id": "8b081443",
   "metadata": {
    "execution": {
     "iopub.execute_input": "2023-04-22T02:20:22.731873Z",
     "iopub.status.busy": "2023-04-22T02:20:22.731191Z",
     "iopub.status.idle": "2023-04-22T02:20:34.236266Z",
     "shell.execute_reply": "2023-04-22T02:20:34.234790Z",
     "shell.execute_reply.started": "2023-04-22T02:20:22.731835Z"
    }
   },
   "outputs": [
    {
     "name": "stdout",
     "output_type": "stream",
     "text": [
      "Collecting contractions\n",
      "  Downloading contractions-0.1.73-py2.py3-none-any.whl (8.7 kB)\n",
      "Collecting textsearch>=0.0.21\n",
      "  Downloading textsearch-0.0.24-py2.py3-none-any.whl (7.6 kB)\n",
      "Collecting pyahocorasick\n",
      "  Downloading pyahocorasick-2.0.0-cp37-cp37m-manylinux_2_5_x86_64.manylinux1_x86_64.whl (101 kB)\n",
      "\u001b[2K     \u001b[90m━━━━━━━━━━━━━━━━━━━━━━━━━━━━━━━━━━━━━━━\u001b[0m \u001b[32m101.8/101.8 kB\u001b[0m \u001b[31m4.1 MB/s\u001b[0m eta \u001b[36m0:00:00\u001b[0m\n",
      "\u001b[?25hCollecting anyascii\n",
      "  Downloading anyascii-0.3.2-py3-none-any.whl (289 kB)\n",
      "\u001b[2K     \u001b[90m━━━━━━━━━━━━━━━━━━━━━━━━━━━━━━━━━━━━━━\u001b[0m \u001b[32m289.9/289.9 kB\u001b[0m \u001b[31m11.3 MB/s\u001b[0m eta \u001b[36m0:00:00\u001b[0m\n",
      "\u001b[?25hInstalling collected packages: pyahocorasick, anyascii, textsearch, contractions\n",
      "Successfully installed anyascii-0.3.2 contractions-0.1.73 pyahocorasick-2.0.0 textsearch-0.0.24\n",
      "\u001b[33mWARNING: Running pip as the 'root' user can result in broken permissions and conflicting behaviour with the system package manager. It is recommended to use a virtual environment instead: https://pip.pypa.io/warnings/venv\u001b[0m\u001b[33m\n",
      "\u001b[0mNote: you may need to restart the kernel to use updated packages.\n"
     ]
    }
   ],
   "source": [
    "pip install contractions"
   ]
  },
  {
   "cell_type": "code",
   "execution_count": 4,
   "id": "8c617a2f",
   "metadata": {
    "execution": {
     "iopub.execute_input": "2023-04-22T02:20:47.061119Z",
     "iopub.status.busy": "2023-04-22T02:20:47.060100Z",
     "iopub.status.idle": "2023-04-22T02:20:47.080830Z",
     "shell.execute_reply": "2023-04-22T02:20:47.079685Z",
     "shell.execute_reply.started": "2023-04-22T02:20:47.061073Z"
    }
   },
   "outputs": [
    {
     "name": "stdout",
     "output_type": "stream",
     "text": [
      "I'm == I am\n",
      "I'm'a == I am about to\n",
      "I'm'o == I am going to\n",
      "I've == I have\n",
      "I'll == I will\n",
      "I'll've == I will have\n",
      "I'd == I would\n",
      "I'd've == I would have\n",
      "Whatcha == What are you\n",
      "amn't == am not\n"
     ]
    }
   ],
   "source": [
    "from contractions import contractions_dict\n",
    "\n",
    "for key, value in list(contractions_dict.items())[:10]:\n",
    "    print(f'{key} == {value}')"
   ]
  },
  {
   "cell_type": "code",
   "execution_count": 5,
   "id": "442ea4bc",
   "metadata": {
    "execution": {
     "iopub.execute_input": "2023-04-22T02:20:50.975778Z",
     "iopub.status.busy": "2023-04-22T02:20:50.974844Z",
     "iopub.status.idle": "2023-04-22T02:20:51.918649Z",
     "shell.execute_reply": "2023-04-22T02:20:51.917489Z",
     "shell.execute_reply.started": "2023-04-22T02:20:50.975722Z"
    }
   },
   "outputs": [],
   "source": [
    "df = pd.read_csv(\"/kaggle/input/news-summary/news_summary_more.csv\")"
   ]
  },
  {
   "cell_type": "code",
   "execution_count": 6,
   "id": "e9b2f3aa",
   "metadata": {
    "execution": {
     "iopub.execute_input": "2023-04-22T02:20:52.950525Z",
     "iopub.status.busy": "2023-04-22T02:20:52.949663Z",
     "iopub.status.idle": "2023-04-22T02:20:55.004563Z",
     "shell.execute_reply": "2023-04-22T02:20:55.003595Z",
     "shell.execute_reply.started": "2023-04-22T02:20:52.950449Z"
    }
   },
   "outputs": [
    {
     "data": {
      "text/plain": [
       "<tensorflow.python.distribute.one_device_strategy.OneDeviceStrategy at 0x740b1d716510>"
      ]
     },
     "execution_count": 6,
     "metadata": {},
     "output_type": "execute_result"
    }
   ],
   "source": [
    "tpu_strategy = tf.distribute.OneDeviceStrategy(device='/gpu:0' if tf.test.is_gpu_available() else '/cpu:0')\n",
    "tpu_strategy"
   ]
  },
  {
   "cell_type": "code",
   "execution_count": 7,
   "id": "b35e5048",
   "metadata": {
    "execution": {
     "iopub.execute_input": "2023-04-22T02:20:56.400346Z",
     "iopub.status.busy": "2023-04-22T02:20:56.399566Z",
     "iopub.status.idle": "2023-04-22T02:20:56.419188Z",
     "shell.execute_reply": "2023-04-22T02:20:56.416776Z",
     "shell.execute_reply.started": "2023-04-22T02:20:56.400308Z"
    }
   },
   "outputs": [
    {
     "data": {
      "text/plain": [
       "'you all cannot expand contractions id think'"
      ]
     },
     "execution_count": 7,
     "metadata": {},
     "output_type": "execute_result"
    }
   ],
   "source": [
    "def expand_contractions(text, contraction_map=contractions_dict):\n",
    "    # Using regex for getting all contracted words\n",
    "    contractions_keys = '|'.join(contraction_map.keys())\n",
    "    contractions_pattern = re.compile(f'({contractions_keys})', flags=re.DOTALL)\n",
    "\n",
    "    def expand_match(contraction):\n",
    "        # Getting entire matched sub-string\n",
    "        match = contraction.group(0)\n",
    "        expanded_contraction = contraction_map.get(match)\n",
    "        if not expand_contractions:\n",
    "            print(match)\n",
    "            return match\n",
    "        return expanded_contraction\n",
    "\n",
    "    expanded_text = contractions_pattern.sub(expand_match, text)\n",
    "    expanded_text = re.sub(\"'\", \"\", expanded_text)\n",
    "    return expanded_text\n",
    "\n",
    "\n",
    "expand_contractions(\"y'all can't expand contractions i'd think\")"
   ]
  },
  {
   "cell_type": "code",
   "execution_count": 8,
   "id": "628e7e3f",
   "metadata": {
    "execution": {
     "iopub.execute_input": "2023-04-22T02:20:58.775326Z",
     "iopub.status.busy": "2023-04-22T02:20:58.774953Z",
     "iopub.status.idle": "2023-04-22T02:20:58.908419Z",
     "shell.execute_reply": "2023-04-22T02:20:58.907175Z",
     "shell.execute_reply.started": "2023-04-22T02:20:58.775293Z"
    }
   },
   "outputs": [
    {
     "data": {
      "text/html": [
       "<div>\n",
       "<style scoped>\n",
       "    .dataframe tbody tr th:only-of-type {\n",
       "        vertical-align: middle;\n",
       "    }\n",
       "\n",
       "    .dataframe tbody tr th {\n",
       "        vertical-align: top;\n",
       "    }\n",
       "\n",
       "    .dataframe thead th {\n",
       "        text-align: right;\n",
       "    }\n",
       "</style>\n",
       "<table border=\"1\" class=\"dataframe\">\n",
       "  <thead>\n",
       "    <tr style=\"text-align: right;\">\n",
       "      <th></th>\n",
       "      <th>headlines</th>\n",
       "      <th>text</th>\n",
       "    </tr>\n",
       "  </thead>\n",
       "  <tbody>\n",
       "    <tr>\n",
       "      <th>21965</th>\n",
       "      <td>man arrested for raping his minor niece in mad...</td>\n",
       "      <td>a minor girl was allegedly raped by her uncle ...</td>\n",
       "    </tr>\n",
       "    <tr>\n",
       "      <th>15087</th>\n",
       "      <td>woman raped by two men in up, abandoned in unc...</td>\n",
       "      <td>a woman was allegedly raped by two persons in ...</td>\n",
       "    </tr>\n",
       "    <tr>\n",
       "      <th>14742</th>\n",
       "      <td>bihar bans mobile phones at key govt meetings</td>\n",
       "      <td>the bihar government on thursday prohibited al...</td>\n",
       "    </tr>\n",
       "    <tr>\n",
       "      <th>82059</th>\n",
       "      <td>around 200 people lose â¹10l to atm fraud in ...</td>\n",
       "      <td>within a week, nearly 200 people have lost ove...</td>\n",
       "    </tr>\n",
       "    <tr>\n",
       "      <th>54670</th>\n",
       "      <td>dhirubhai ambani once sold 'bhajias' to pilgri...</td>\n",
       "      <td>reliance industries founder dhirubhai ambani, ...</td>\n",
       "    </tr>\n",
       "  </tbody>\n",
       "</table>\n",
       "</div>"
      ],
      "text/plain": [
       "                                               headlines  \\\n",
       "21965  man arrested for raping his minor niece in mad...   \n",
       "15087  woman raped by two men in up, abandoned in unc...   \n",
       "14742      bihar bans mobile phones at key govt meetings   \n",
       "82059  around 200 people lose â¹10l to atm fraud in ...   \n",
       "54670  dhirubhai ambani once sold 'bhajias' to pilgri...   \n",
       "\n",
       "                                                    text  \n",
       "21965  a minor girl was allegedly raped by her uncle ...  \n",
       "15087  a woman was allegedly raped by two persons in ...  \n",
       "14742  the bihar government on thursday prohibited al...  \n",
       "82059  within a week, nearly 200 people have lost ove...  \n",
       "54670  reliance industries founder dhirubhai ambani, ...  "
      ]
     },
     "execution_count": 8,
     "metadata": {},
     "output_type": "execute_result"
    }
   ],
   "source": [
    "# Converting to lowercase\n",
    "df.text = df.text.apply(str.lower)\n",
    "df.headlines = df.headlines.apply(str.lower)\n",
    "\n",
    "df.sample(5)"
   ]
  },
  {
   "cell_type": "code",
   "execution_count": 9,
   "id": "c145e0d3",
   "metadata": {
    "execution": {
     "iopub.execute_input": "2023-04-22T02:20:59.752883Z",
     "iopub.status.busy": "2023-04-22T02:20:59.751977Z",
     "iopub.status.idle": "2023-04-22T02:21:36.506379Z",
     "shell.execute_reply": "2023-04-22T02:21:36.505339Z",
     "shell.execute_reply.started": "2023-04-22T02:20:59.752833Z"
    }
   },
   "outputs": [
    {
     "data": {
      "text/html": [
       "<div>\n",
       "<style scoped>\n",
       "    .dataframe tbody tr th:only-of-type {\n",
       "        vertical-align: middle;\n",
       "    }\n",
       "\n",
       "    .dataframe tbody tr th {\n",
       "        vertical-align: top;\n",
       "    }\n",
       "\n",
       "    .dataframe thead th {\n",
       "        text-align: right;\n",
       "    }\n",
       "</style>\n",
       "<table border=\"1\" class=\"dataframe\">\n",
       "  <thead>\n",
       "    <tr style=\"text-align: right;\">\n",
       "      <th></th>\n",
       "      <th>headlines</th>\n",
       "      <th>text</th>\n",
       "    </tr>\n",
       "  </thead>\n",
       "  <tbody>\n",
       "    <tr>\n",
       "      <th>45236</th>\n",
       "      <td>air india aims to raise â¹500 crore through l...</td>\n",
       "      <td>air india is looking at raising â¹500 crore b...</td>\n",
       "    </tr>\n",
       "    <tr>\n",
       "      <th>84542</th>\n",
       "      <td>china with 4 times us population has 2nd most ...</td>\n",
       "      <td>china is home to the second most millionaires ...</td>\n",
       "    </tr>\n",
       "    <tr>\n",
       "      <th>26912</th>\n",
       "      <td>swaraj natural choice for pm in 2014, lost to ...</td>\n",
       "      <td>congress leader and ex-finance minister p chid...</td>\n",
       "    </tr>\n",
       "    <tr>\n",
       "      <th>64282</th>\n",
       "      <td>delhi university behaving like an ostrich: del...</td>\n",
       "      <td>the delhi high court on tuesday said the delhi...</td>\n",
       "    </tr>\n",
       "    <tr>\n",
       "      <th>57497</th>\n",
       "      <td>womans body stuffed in bag washes up on mumbai...</td>\n",
       "      <td>the mumbai police has found a womans body stuf...</td>\n",
       "    </tr>\n",
       "  </tbody>\n",
       "</table>\n",
       "</div>"
      ],
      "text/plain": [
       "                                               headlines  \\\n",
       "45236  air india aims to raise â¹500 crore through l...   \n",
       "84542  china with 4 times us population has 2nd most ...   \n",
       "26912  swaraj natural choice for pm in 2014, lost to ...   \n",
       "64282  delhi university behaving like an ostrich: del...   \n",
       "57497  womans body stuffed in bag washes up on mumbai...   \n",
       "\n",
       "                                                    text  \n",
       "45236  air india is looking at raising â¹500 crore b...  \n",
       "84542  china is home to the second most millionaires ...  \n",
       "26912  congress leader and ex-finance minister p chid...  \n",
       "64282  the delhi high court on tuesday said the delhi...  \n",
       "57497  the mumbai police has found a womans body stuf...  "
      ]
     },
     "execution_count": 9,
     "metadata": {},
     "output_type": "execute_result"
    }
   ],
   "source": [
    "df.headlines = df.headlines.apply(expand_contractions)\n",
    "df.text = df.text.apply(expand_contractions)\n",
    "df.sample(5)"
   ]
  },
  {
   "cell_type": "code",
   "execution_count": 10,
   "id": "8f8430ab",
   "metadata": {
    "execution": {
     "iopub.execute_input": "2023-04-22T02:22:46.878010Z",
     "iopub.status.busy": "2023-04-22T02:22:46.877530Z",
     "iopub.status.idle": "2023-04-22T02:22:46.886117Z",
     "shell.execute_reply": "2023-04-22T02:22:46.884854Z",
     "shell.execute_reply.started": "2023-04-22T02:22:46.877977Z"
    }
   },
   "outputs": [
    {
     "name": "stdout",
     "output_type": "stream",
     "text": [
      "cool\n",
      "Frankly my dear I dont give a damn\n"
     ]
    }
   ],
   "source": [
    "# Remove puncuation from word\n",
    "def rm_punc_from_word(word):\n",
    "    clean_alphabet_list = [\n",
    "        alphabet for alphabet in word if alphabet not in string.punctuation\n",
    "    ]\n",
    "    return ''.join(clean_alphabet_list)\n",
    "\n",
    "print(rm_punc_from_word('#cool!'))\n",
    "\n",
    "\n",
    "# Remove puncuation from text\n",
    "def rm_punc_from_text(text):\n",
    "    clean_word_list = [rm_punc_from_word(word) for word in text]\n",
    "    return ''.join(clean_word_list)\n",
    "\n",
    "print(rm_punc_from_text(\"Frankly, my dear, I don't give a damn\"))"
   ]
  },
  {
   "cell_type": "code",
   "execution_count": 11,
   "id": "198e6e9d",
   "metadata": {
    "execution": {
     "iopub.execute_input": "2023-04-22T02:22:50.531172Z",
     "iopub.status.busy": "2023-04-22T02:22:50.529997Z",
     "iopub.status.idle": "2023-04-22T02:22:50.540255Z",
     "shell.execute_reply": "2023-04-22T02:22:50.538915Z",
     "shell.execute_reply.started": "2023-04-22T02:22:50.531125Z"
    }
   },
   "outputs": [
    {
     "name": "stdout",
     "output_type": "stream",
     "text": [
      "You are times more sexier than me\n",
      "If you taught yes then you are times more delusional than me\n"
     ]
    }
   ],
   "source": [
    "# Remove numbers from text\n",
    "def rm_number_from_text(text):\n",
    "    text = re.sub('[0-9]+', '', text)\n",
    "    return ' '.join(text.split())  # to rm `extra` white space\n",
    "\n",
    "print(rm_number_from_text('You are 100times more sexier than me'))\n",
    "print(rm_number_from_text('If you taught yes then you are 10 times more delusional than me'))"
   ]
  },
  {
   "cell_type": "code",
   "execution_count": 12,
   "id": "b9c3cf0f",
   "metadata": {
    "execution": {
     "iopub.execute_input": "2023-04-22T02:22:53.185261Z",
     "iopub.status.busy": "2023-04-22T02:22:53.184907Z",
     "iopub.status.idle": "2023-04-22T02:22:53.198179Z",
     "shell.execute_reply": "2023-04-22T02:22:53.197188Z",
     "shell.execute_reply.started": "2023-04-22T02:22:53.185231Z"
    }
   },
   "outputs": [
    {
     "data": {
      "text/plain": [
       "'Love means never say sorry'"
      ]
     },
     "execution_count": 12,
     "metadata": {},
     "output_type": "execute_result"
    }
   ],
   "source": [
    "# Remove stopwords from text\n",
    "def rm_stopwords_from_text(text):\n",
    "    _stopwords = stopwords.words('english')\n",
    "    text = text.split()\n",
    "    word_list = [word for word in text if word not in _stopwords]\n",
    "    return ' '.join(word_list)\n",
    "\n",
    "rm_stopwords_from_text(\"Love means never having to say you're sorry\")"
   ]
  },
  {
   "cell_type": "code",
   "execution_count": 13,
   "id": "0534ef5f",
   "metadata": {
    "execution": {
     "iopub.execute_input": "2023-04-22T02:22:55.727754Z",
     "iopub.status.busy": "2023-04-22T02:22:55.727238Z",
     "iopub.status.idle": "2023-04-22T02:22:55.756322Z",
     "shell.execute_reply": "2023-04-22T02:22:55.755398Z",
     "shell.execute_reply.started": "2023-04-22T02:22:55.727710Z"
    }
   },
   "outputs": [
    {
     "data": {
      "text/plain": [
       "'mrs robinson youre trying seduce arent'"
      ]
     },
     "execution_count": 13,
     "metadata": {},
     "output_type": "execute_result"
    }
   ],
   "source": [
    "# Cleaning text\n",
    "def clean_text(text):\n",
    "    text = text.lower()\n",
    "    text = rm_punc_from_text(text)\n",
    "    text = rm_number_from_text(text)\n",
    "    text = rm_stopwords_from_text(text)\n",
    "\n",
    "    # there are hyphen(–) in many titles, so replacing it with empty str\n",
    "    # this hyphen(–) is different from normal hyphen(-)\n",
    "    text = re.sub('–', '', text)\n",
    "    text = ' '.join(text.split())  # removing `extra` white spaces\n",
    "\n",
    "    # Removing unnecessary characters from text\n",
    "    text = re.sub(\"(\\\\t)\", ' ', str(text)).lower()\n",
    "    text = re.sub(\"(\\\\r)\", ' ', str(text)).lower()\n",
    "    text = re.sub(\"(\\\\n)\", ' ', str(text)).lower()\n",
    "\n",
    "    # remove accented chars ('Sómě Áccěntěd těxt' => 'Some Accented text')\n",
    "    text = unicodedata.normalize('NFKD', text).encode('ascii', 'ignore').decode(\n",
    "        'utf-8', 'ignore'\n",
    "    )\n",
    "\n",
    "    text = re.sub(\"(__+)\", ' ', str(text)).lower()\n",
    "    text = re.sub(\"(--+)\", ' ', str(text)).lower()\n",
    "    text = re.sub(\"(~~+)\", ' ', str(text)).lower()\n",
    "    text = re.sub(\"(\\+\\++)\", ' ', str(text)).lower()\n",
    "    text = re.sub(\"(\\.\\.+)\", ' ', str(text)).lower()\n",
    "\n",
    "    text = re.sub(r\"[<>()|&©ø\\[\\]\\'\\\",;?~*!]\", ' ', str(text)).lower()\n",
    "\n",
    "    text = re.sub(\"(mailto:)\", ' ', str(text)).lower()\n",
    "    text = re.sub(r\"(\\\\x9\\d)\", ' ', str(text)).lower()\n",
    "    text = re.sub(\"([iI][nN][cC]\\d+)\", 'INC_NUM', str(text)).lower()\n",
    "    text = re.sub(\"([cC][mM]\\d+)|([cC][hH][gG]\\d+)\", 'CM_NUM',\n",
    "                  str(text)).lower()\n",
    "\n",
    "    text = re.sub(\"(\\.\\s+)\", ' ', str(text)).lower()\n",
    "    text = re.sub(\"(\\-\\s+)\", ' ', str(text)).lower()\n",
    "    text = re.sub(\"(\\:\\s+)\", ' ', str(text)).lower()\n",
    "    text = re.sub(\"(\\s+.\\s+)\", ' ', str(text)).lower()\n",
    "\n",
    "    try:\n",
    "        url = re.search(r'((https*:\\/*)([^\\/\\s]+))(.[^\\s]+)', str(text))\n",
    "        repl_url = url.group(3)\n",
    "        text = re.sub(r'((https*:\\/*)([^\\/\\s]+))(.[^\\s]+)', repl_url, str(text))\n",
    "    except Exception as e:\n",
    "        pass\n",
    "\n",
    "    text = re.sub(\"(\\s+)\", ' ', str(text)).lower()\n",
    "    text = re.sub(\"(\\s+.\\s+)\", ' ', str(text)).lower()\n",
    "\n",
    "    return text\n",
    "\n",
    "clean_text(\"Mrs. Robinson, you're trying to seduce me, aren't you?\")"
   ]
  },
  {
   "cell_type": "code",
   "execution_count": 14,
   "id": "06dd40ec",
   "metadata": {
    "execution": {
     "iopub.execute_input": "2023-04-22T02:23:03.957717Z",
     "iopub.status.busy": "2023-04-22T02:23:03.956540Z",
     "iopub.status.idle": "2023-04-22T02:24:22.571342Z",
     "shell.execute_reply": "2023-04-22T02:24:22.570357Z",
     "shell.execute_reply.started": "2023-04-22T02:23:03.957672Z"
    }
   },
   "outputs": [
    {
     "data": {
      "text/html": [
       "<div>\n",
       "<style scoped>\n",
       "    .dataframe tbody tr th:only-of-type {\n",
       "        vertical-align: middle;\n",
       "    }\n",
       "\n",
       "    .dataframe tbody tr th {\n",
       "        vertical-align: top;\n",
       "    }\n",
       "\n",
       "    .dataframe thead th {\n",
       "        text-align: right;\n",
       "    }\n",
       "</style>\n",
       "<table border=\"1\" class=\"dataframe\">\n",
       "  <thead>\n",
       "    <tr style=\"text-align: right;\">\n",
       "      <th></th>\n",
       "      <th>headlines</th>\n",
       "      <th>text</th>\n",
       "    </tr>\n",
       "  </thead>\n",
       "  <tbody>\n",
       "    <tr>\n",
       "      <th>85626</th>\n",
       "      <td>roy steps inches away boundary take catch</td>\n",
       "      <td>englands jason roy took catch boundary steppin...</td>\n",
       "    </tr>\n",
       "    <tr>\n",
       "      <th>81174</th>\n",
       "      <td>us soldier arrested trying give isis classifie...</td>\n",
       "      <td>us army soldier ikaika erik kang arrested terr...</td>\n",
       "    </tr>\n",
       "    <tr>\n",
       "      <th>56829</th>\n",
       "      <td>austria scrap plan ban smoking restaurants</td>\n",
       "      <td>austria scrapped ban smoking bars restaurants ...</td>\n",
       "    </tr>\n",
       "    <tr>\n",
       "      <th>50583</th>\n",
       "      <td>trump apologises retweeting antimuslim videos</td>\n",
       "      <td>us president donald trump friday apologised re...</td>\n",
       "    </tr>\n",
       "    <tr>\n",
       "      <th>93045</th>\n",
       "      <td>jack mas ant raises epayment firm bid top rival</td>\n",
       "      <td>ant financial raised offer electronic payment ...</td>\n",
       "    </tr>\n",
       "  </tbody>\n",
       "</table>\n",
       "</div>"
      ],
      "text/plain": [
       "                                               headlines  \\\n",
       "85626          roy steps inches away boundary take catch   \n",
       "81174  us soldier arrested trying give isis classifie...   \n",
       "56829         austria scrap plan ban smoking restaurants   \n",
       "50583      trump apologises retweeting antimuslim videos   \n",
       "93045    jack mas ant raises epayment firm bid top rival   \n",
       "\n",
       "                                                    text  \n",
       "85626  englands jason roy took catch boundary steppin...  \n",
       "81174  us army soldier ikaika erik kang arrested terr...  \n",
       "56829  austria scrapped ban smoking bars restaurants ...  \n",
       "50583  us president donald trump friday apologised re...  \n",
       "93045  ant financial raised offer electronic payment ...  "
      ]
     },
     "execution_count": 14,
     "metadata": {},
     "output_type": "execute_result"
    }
   ],
   "source": [
    "df.text = df.text.apply(clean_text)\n",
    "df.headlines = df.headlines.apply(clean_text)\n",
    "df.sample(5)"
   ]
  },
  {
   "cell_type": "code",
   "execution_count": 15,
   "id": "95347065",
   "metadata": {
    "execution": {
     "iopub.execute_input": "2023-04-22T02:25:26.766878Z",
     "iopub.status.busy": "2023-04-22T02:25:26.766158Z",
     "iopub.status.idle": "2023-04-22T02:25:27.278572Z",
     "shell.execute_reply": "2023-04-22T02:25:27.277527Z",
     "shell.execute_reply.started": "2023-04-22T02:25:26.766840Z"
    }
   },
   "outputs": [],
   "source": [
    "# saving the cleaned data\n",
    "df.to_csv('cleaned_data.csv')"
   ]
  },
  {
   "cell_type": "code",
   "execution_count": 16,
   "id": "9696ed8d",
   "metadata": {
    "execution": {
     "iopub.execute_input": "2023-04-22T02:25:29.995744Z",
     "iopub.status.busy": "2023-04-22T02:25:29.995275Z",
     "iopub.status.idle": "2023-04-22T02:25:30.052647Z",
     "shell.execute_reply": "2023-04-22T02:25:30.051501Z",
     "shell.execute_reply.started": "2023-04-22T02:25:29.995700Z"
    }
   },
   "outputs": [],
   "source": [
    "df.headlines = df.headlines.apply(lambda x: f'_START_ {x} _END_')"
   ]
  },
  {
   "cell_type": "code",
   "execution_count": 17,
   "id": "4c712c22",
   "metadata": {
    "execution": {
     "iopub.execute_input": "2023-04-22T02:25:32.340971Z",
     "iopub.status.busy": "2023-04-22T02:25:32.339746Z",
     "iopub.status.idle": "2023-04-22T02:25:32.381543Z",
     "shell.execute_reply": "2023-04-22T02:25:32.380325Z",
     "shell.execute_reply.started": "2023-04-22T02:25:32.340919Z"
    }
   },
   "outputs": [],
   "source": [
    "start_token = 'sostok'\n",
    "end_token = 'eostok'\n",
    "df.headlines = df.headlines.apply(lambda x: f'{start_token} {x} {end_token}')"
   ]
  },
  {
   "cell_type": "code",
   "execution_count": 18,
   "id": "673d701c",
   "metadata": {
    "execution": {
     "iopub.execute_input": "2023-04-22T02:25:35.270748Z",
     "iopub.status.busy": "2023-04-22T02:25:35.269695Z",
     "iopub.status.idle": "2023-04-22T02:25:36.155149Z",
     "shell.execute_reply": "2023-04-22T02:25:36.154128Z",
     "shell.execute_reply.started": "2023-04-22T02:25:35.270697Z"
    }
   },
   "outputs": [
    {
     "data": {
      "image/png": "[encoded data removed]",
      "text/plain": [
       "<Figure size 1600x400 with 2 Axes>"
      ]
     },
     "metadata": {},
     "output_type": "display_data"
    }
   ],
   "source": [
    "text_count = [len(sentence.split()) for sentence in df.text]\n",
    "headlines_count = [len(sentence.split()) for sentence in df.headlines]\n",
    "\n",
    "pd.DataFrame({'text': text_count, 'headlines': headlines_count}).hist(bins=100, figsize=(16, 4), range=[0, 50])\n",
    "plt.show()"
   ]
  },
  {
   "cell_type": "code",
   "execution_count": 19,
   "id": "1bed8a69",
   "metadata": {
    "execution": {
     "iopub.execute_input": "2023-04-22T02:25:39.205703Z",
     "iopub.status.busy": "2023-04-22T02:25:39.204931Z",
     "iopub.status.idle": "2023-04-22T02:25:39.477430Z",
     "shell.execute_reply": "2023-04-22T02:25:39.476443Z",
     "shell.execute_reply.started": "2023-04-22T02:25:39.205665Z"
    }
   },
   "outputs": [
    {
     "name": "stdout",
     "output_type": "stream",
     "text": [
      "0.99\n",
      "0.99\n"
     ]
    }
   ],
   "source": [
    "# To check how many rows in a column has length (of the text) <= limit\n",
    "def get_word_percent(column, limit):\n",
    "    count = 0\n",
    "    for sentence in column:\n",
    "        if len(sentence.split()) <= limit:\n",
    "            count += 1\n",
    "\n",
    "    return round(count / len(column), 2)\n",
    "\n",
    "\n",
    "# Check how many % of headlines have 0-13 words\n",
    "print(get_word_percent(df.headlines, 13))\n",
    "\n",
    "# Check how many % of summary have 0-42 words\n",
    "print(get_word_percent(df.text, 42))"
   ]
  },
  {
   "cell_type": "code",
   "execution_count": 20,
   "id": "a2bf484e",
   "metadata": {
    "execution": {
     "iopub.execute_input": "2023-04-22T02:25:42.251344Z",
     "iopub.status.busy": "2023-04-22T02:25:42.250892Z",
     "iopub.status.idle": "2023-04-22T02:25:42.257070Z",
     "shell.execute_reply": "2023-04-22T02:25:42.256134Z",
     "shell.execute_reply.started": "2023-04-22T02:25:42.251301Z"
    }
   },
   "outputs": [],
   "source": [
    "max_text_len = 42\n",
    "max_summary_len = 13"
   ]
  },
  {
   "cell_type": "code",
   "execution_count": 21,
   "id": "8e05c28d",
   "metadata": {
    "execution": {
     "iopub.execute_input": "2023-04-22T02:25:44.570893Z",
     "iopub.status.busy": "2023-04-22T02:25:44.569893Z",
     "iopub.status.idle": "2023-04-22T02:25:44.897497Z",
     "shell.execute_reply": "2023-04-22T02:25:44.896431Z",
     "shell.execute_reply.started": "2023-04-22T02:25:44.570848Z"
    }
   },
   "outputs": [
    {
     "name": "stdout",
     "output_type": "stream",
     "text": [
      "Dataset size: 95835\n"
     ]
    },
    {
     "data": {
      "text/html": [
       "<div>\n",
       "<style scoped>\n",
       "    .dataframe tbody tr th:only-of-type {\n",
       "        vertical-align: middle;\n",
       "    }\n",
       "\n",
       "    .dataframe tbody tr th {\n",
       "        vertical-align: top;\n",
       "    }\n",
       "\n",
       "    .dataframe thead th {\n",
       "        text-align: right;\n",
       "    }\n",
       "</style>\n",
       "<table border=\"1\" class=\"dataframe\">\n",
       "  <thead>\n",
       "    <tr style=\"text-align: right;\">\n",
       "      <th></th>\n",
       "      <th>text</th>\n",
       "      <th>summary</th>\n",
       "    </tr>\n",
       "  </thead>\n",
       "  <tbody>\n",
       "    <tr>\n",
       "      <th>64799</th>\n",
       "      <td>iceland pm bjarni benediktsson sold bank asset...</td>\n",
       "      <td>sostok _START_ iceland pm sold bank assets hou...</td>\n",
       "    </tr>\n",
       "    <tr>\n",
       "      <th>1697</th>\n",
       "      <td>thirty five days miners trapped inside illegal...</td>\n",
       "      <td>sostok _START_ body trapped meghalaya mine fou...</td>\n",
       "    </tr>\n",
       "    <tr>\n",
       "      <th>53485</th>\n",
       "      <td>uber india filed criminal case one employees b...</td>\n",
       "      <td>sostok _START_ uber india employee booked chea...</td>\n",
       "    </tr>\n",
       "    <tr>\n",
       "      <th>88497</th>\n",
       "      <td>actor irrfan khan said would love play woman s...</td>\n",
       "      <td>sostok _START_ would love play woman screen ir...</td>\n",
       "    </tr>\n",
       "    <tr>\n",
       "      <th>11327</th>\n",
       "      <td>seven elephants succumbed injuries odisha frid...</td>\n",
       "      <td>sostok _START_ elephants search food die elect...</td>\n",
       "    </tr>\n",
       "  </tbody>\n",
       "</table>\n",
       "</div>"
      ],
      "text/plain": [
       "                                                    text  \\\n",
       "64799  iceland pm bjarni benediktsson sold bank asset...   \n",
       "1697   thirty five days miners trapped inside illegal...   \n",
       "53485  uber india filed criminal case one employees b...   \n",
       "88497  actor irrfan khan said would love play woman s...   \n",
       "11327  seven elephants succumbed injuries odisha frid...   \n",
       "\n",
       "                                                 summary  \n",
       "64799  sostok _START_ iceland pm sold bank assets hou...  \n",
       "1697   sostok _START_ body trapped meghalaya mine fou...  \n",
       "53485  sostok _START_ uber india employee booked chea...  \n",
       "88497  sostok _START_ would love play woman screen ir...  \n",
       "11327  sostok _START_ elephants search food die elect...  "
      ]
     },
     "execution_count": 21,
     "metadata": {},
     "output_type": "execute_result"
    }
   ],
   "source": [
    "# select the summary and text between their defined max lens respectively\n",
    "def trim_text_and_summary(df, max_text_len, max_summary_len):\n",
    "    cleaned_text = np.array(df['text'])\n",
    "    cleaned_summary = np.array(df['headlines'])\n",
    "\n",
    "    short_text = []\n",
    "    short_summary = []\n",
    "\n",
    "    for i in range(len(cleaned_text)):\n",
    "        if len(cleaned_text[i].split()) <= max_text_len and len(\n",
    "            cleaned_summary[i].split()\n",
    "        ) <= max_summary_len:\n",
    "            short_text.append(cleaned_text[i])\n",
    "            short_summary.append(cleaned_summary[i])\n",
    "\n",
    "    df = pd.DataFrame({'text': short_text, 'summary': short_summary})\n",
    "    return df\n",
    "\n",
    "\n",
    "df = trim_text_and_summary(df, max_text_len, max_summary_len)\n",
    "print(f'Dataset size: {len(df)}')\n",
    "df.sample(5)"
   ]
  },
  {
   "cell_type": "code",
   "execution_count": 22,
   "id": "ff6b69d5",
   "metadata": {
    "execution": {
     "iopub.execute_input": "2023-04-22T02:25:47.490714Z",
     "iopub.status.busy": "2023-04-22T02:25:47.490004Z",
     "iopub.status.idle": "2023-04-22T02:25:47.497588Z",
     "shell.execute_reply": "2023-04-22T02:25:47.496377Z",
     "shell.execute_reply.started": "2023-04-22T02:25:47.490673Z"
    }
   },
   "outputs": [],
   "source": [
    "# rare word analysis\n",
    "def get_rare_word_percent(tokenizer, threshold):\n",
    "    # threshold: if the word's occurrence is less than this then it's rare word\n",
    "\n",
    "    count = 0\n",
    "    total_count = 0\n",
    "    frequency = 0\n",
    "    total_frequency = 0\n",
    "\n",
    "    for key, value in tokenizer.word_counts.items():\n",
    "        total_count += 1\n",
    "        total_frequency += value\n",
    "        if value < threshold:\n",
    "            count += 1\n",
    "            frequency += value\n",
    "\n",
    "    return {\n",
    "        'percent': round((count / total_count) * 100, 2),\n",
    "        'total_coverage': round(frequency / total_frequency * 100, 2),\n",
    "        'count': count,\n",
    "        'total_count': total_count\n",
    "    }"
   ]
  },
  {
   "cell_type": "code",
   "execution_count": 23,
   "id": "e1f0a2d8",
   "metadata": {
    "execution": {
     "iopub.execute_input": "2023-04-22T02:25:52.600289Z",
     "iopub.status.busy": "2023-04-22T02:25:52.599912Z",
     "iopub.status.idle": "2023-04-22T02:25:52.623925Z",
     "shell.execute_reply": "2023-04-22T02:25:52.622630Z",
     "shell.execute_reply.started": "2023-04-22T02:25:52.600257Z"
    }
   },
   "outputs": [],
   "source": [
    "# Splitting the training and validation sets\n",
    "x_train, x_val, y_train, y_val = train_test_split(\n",
    "    np.array(df['text']),\n",
    "    np.array(df['summary']),\n",
    "    test_size=0.1,\n",
    "    random_state=1,\n",
    "    shuffle=True\n",
    ")"
   ]
  },
  {
   "cell_type": "code",
   "execution_count": 24,
   "id": "1a887327",
   "metadata": {
    "execution": {
     "iopub.execute_input": "2023-04-22T02:25:55.190090Z",
     "iopub.status.busy": "2023-04-22T02:25:55.189728Z",
     "iopub.status.idle": "2023-04-22T02:25:58.096688Z",
     "shell.execute_reply": "2023-04-22T02:25:58.095545Z",
     "shell.execute_reply.started": "2023-04-22T02:25:55.190058Z"
    }
   },
   "outputs": [
    {
     "name": "stdout",
     "output_type": "stream",
     "text": [
      "{'percent': 65.78, 'total_coverage': 3.06, 'count': 65037, 'total_count': 98874}\n"
     ]
    }
   ],
   "source": [
    "x_tokenizer = Tokenizer()\n",
    "x_tokenizer.fit_on_texts(list(x_train))\n",
    "\n",
    "x_tokens_data = get_rare_word_percent(x_tokenizer, 4)\n",
    "print(x_tokens_data)"
   ]
  },
  {
   "cell_type": "code",
   "execution_count": 25,
   "id": "667fe5b5",
   "metadata": {
    "execution": {
     "iopub.execute_input": "2023-04-22T02:26:01.560209Z",
     "iopub.status.busy": "2023-04-22T02:26:01.559839Z",
     "iopub.status.idle": "2023-04-22T02:26:01.574585Z",
     "shell.execute_reply": "2023-04-22T02:26:01.573007Z",
     "shell.execute_reply.started": "2023-04-22T02:26:01.560176Z"
    }
   },
   "outputs": [],
   "source": [
    "x_tokenizer = Tokenizer(num_words=x_tokens_data['total_count'] - x_tokens_data['count'])"
   ]
  },
  {
   "cell_type": "code",
   "execution_count": 26,
   "id": "1d244249",
   "metadata": {
    "execution": {
     "iopub.execute_input": "2023-04-22T02:26:03.896564Z",
     "iopub.status.busy": "2023-04-22T02:26:03.896066Z",
     "iopub.status.idle": "2023-04-22T02:26:07.379218Z",
     "shell.execute_reply": "2023-04-22T02:26:07.378194Z",
     "shell.execute_reply.started": "2023-04-22T02:26:03.896520Z"
    }
   },
   "outputs": [],
   "source": [
    "# else use this\n",
    "x_tokenizer = Tokenizer()\n",
    "x_tokenizer.fit_on_texts(list(x_train))"
   ]
  },
  {
   "cell_type": "code",
   "execution_count": 27,
   "id": "350011da",
   "metadata": {
    "execution": {
     "iopub.execute_input": "2023-04-22T02:26:10.230505Z",
     "iopub.status.busy": "2023-04-22T02:26:10.229569Z",
     "iopub.status.idle": "2023-04-22T02:26:10.322751Z",
     "shell.execute_reply": "2023-04-22T02:26:10.321744Z",
     "shell.execute_reply.started": "2023-04-22T02:26:10.230432Z"
    }
   },
   "outputs": [],
   "source": [
    "# save tokenizer\n",
    "with open('x_tokenizer', 'wb') as f:\n",
    "    pickle.dump(x_tokenizer, f, protocol=pickle.HIGHEST_PROTOCOL)"
   ]
  },
  {
   "cell_type": "code",
   "execution_count": 28,
   "id": "fd9141ed",
   "metadata": {
    "execution": {
     "iopub.execute_input": "2023-04-22T02:26:12.610855Z",
     "iopub.status.busy": "2023-04-22T02:26:12.609941Z",
     "iopub.status.idle": "2023-04-22T02:26:15.661973Z",
     "shell.execute_reply": "2023-04-22T02:26:15.660777Z",
     "shell.execute_reply.started": "2023-04-22T02:26:12.610801Z"
    }
   },
   "outputs": [
    {
     "name": "stdout",
     "output_type": "stream",
     "text": [
      "98875\n"
     ]
    }
   ],
   "source": [
    "# one-hot-encoding\n",
    "x_train_sequence = x_tokenizer.texts_to_sequences(x_train)\n",
    "x_val_sequence = x_tokenizer.texts_to_sequences(x_val)\n",
    "\n",
    "# padding upto max_text_len\n",
    "x_train_padded = pad_sequences(x_train_sequence, maxlen=max_text_len, padding='post')\n",
    "x_val_padded = pad_sequences(x_val_sequence, maxlen=max_text_len, padding='post')\n",
    "\n",
    "# if you're not using num_words parameter in Tokenizer then use this\n",
    "x_vocab_size = len(x_tokenizer.word_index) + 1\n",
    "\n",
    "# else use this\n",
    "# x_vocab_size = x_tokenizer.num_words + 1\n",
    "\n",
    "print(x_vocab_size)"
   ]
  },
  {
   "cell_type": "code",
   "execution_count": 29,
   "id": "3f4c3e8f",
   "metadata": {
    "execution": {
     "iopub.execute_input": "2023-04-22T02:26:17.210703Z",
     "iopub.status.busy": "2023-04-22T02:26:17.209633Z",
     "iopub.status.idle": "2023-04-22T02:26:18.623122Z",
     "shell.execute_reply": "2023-04-22T02:26:18.621717Z",
     "shell.execute_reply.started": "2023-04-22T02:26:17.210654Z"
    }
   },
   "outputs": [
    {
     "name": "stdout",
     "output_type": "stream",
     "text": [
      "{'percent': 69.82, 'total_coverage': 4.99, 'count': 25956, 'total_count': 37176}\n"
     ]
    }
   ],
   "source": [
    "y_tokenizer = Tokenizer()\n",
    "y_tokenizer.fit_on_texts(list(y_train))\n",
    "\n",
    "y_tokens_data = get_rare_word_percent(y_tokenizer, 6)\n",
    "print(y_tokens_data)"
   ]
  },
  {
   "cell_type": "code",
   "execution_count": 30,
   "id": "79db2c5f",
   "metadata": {
    "execution": {
     "iopub.execute_input": "2023-04-22T02:26:22.600706Z",
     "iopub.status.busy": "2023-04-22T02:26:22.599763Z",
     "iopub.status.idle": "2023-04-22T02:26:22.609037Z",
     "shell.execute_reply": "2023-04-22T02:26:22.607529Z",
     "shell.execute_reply.started": "2023-04-22T02:26:22.600654Z"
    }
   },
   "outputs": [],
   "source": [
    "y_tokenizer = Tokenizer(num_words=y_tokens_data['total_count'] - y_tokens_data['count'])"
   ]
  },
  {
   "cell_type": "code",
   "execution_count": 31,
   "id": "e15f90bc",
   "metadata": {
    "execution": {
     "iopub.execute_input": "2023-04-22T02:26:23.719892Z",
     "iopub.status.busy": "2023-04-22T02:26:23.719545Z",
     "iopub.status.idle": "2023-04-22T02:26:25.072044Z",
     "shell.execute_reply": "2023-04-22T02:26:25.071001Z",
     "shell.execute_reply.started": "2023-04-22T02:26:23.719861Z"
    }
   },
   "outputs": [],
   "source": [
    "# else use this\n",
    "y_tokenizer = Tokenizer()\n",
    "y_tokenizer.fit_on_texts(list(y_train))"
   ]
  },
  {
   "cell_type": "code",
   "execution_count": 32,
   "id": "fb443c37",
   "metadata": {
    "execution": {
     "iopub.execute_input": "2023-04-22T02:26:27.217438Z",
     "iopub.status.busy": "2023-04-22T02:26:27.216941Z",
     "iopub.status.idle": "2023-04-22T02:26:27.253689Z",
     "shell.execute_reply": "2023-04-22T02:26:27.252519Z",
     "shell.execute_reply.started": "2023-04-22T02:26:27.217402Z"
    }
   },
   "outputs": [],
   "source": [
    "# save tokenizer\n",
    "with open('y_tokenizer', 'wb') as f:\n",
    "    pickle.dump(y_tokenizer, f, protocol=pickle.HIGHEST_PROTOCOL)"
   ]
  },
  {
   "cell_type": "code",
   "execution_count": 33,
   "id": "e55429ae",
   "metadata": {
    "execution": {
     "iopub.execute_input": "2023-04-22T02:26:32.585605Z",
     "iopub.status.busy": "2023-04-22T02:26:32.585060Z",
     "iopub.status.idle": "2023-04-22T02:26:34.048179Z",
     "shell.execute_reply": "2023-04-22T02:26:34.046016Z",
     "shell.execute_reply.started": "2023-04-22T02:26:32.585566Z"
    }
   },
   "outputs": [
    {
     "name": "stdout",
     "output_type": "stream",
     "text": [
      "37177\n"
     ]
    }
   ],
   "source": [
    "# one-hot-encoding\n",
    "y_train_sequence = y_tokenizer.texts_to_sequences(y_train)\n",
    "y_val_sequence = y_tokenizer.texts_to_sequences(y_val)\n",
    "\n",
    "# padding upto max_summary_len\n",
    "y_train_padded = pad_sequences(y_train_sequence, maxlen=max_summary_len, padding='post')\n",
    "y_val_padded = pad_sequences(y_val_sequence, maxlen=max_summary_len, padding='post')\n",
    "\n",
    "# if you're not using num_words parameter in Tokenizer then use this\n",
    "y_vocab_size = len(y_tokenizer.word_index) + 1\n",
    "\n",
    "# else use this\n",
    "# y_vocab_size = y_tokenizer.num_words + 1\n",
    "\n",
    "print(y_vocab_size)"
   ]
  },
  {
   "cell_type": "code",
   "execution_count": 34,
   "id": "b683a59e",
   "metadata": {
    "execution": {
     "iopub.execute_input": "2023-04-22T02:26:37.655631Z",
     "iopub.status.busy": "2023-04-22T02:26:37.655248Z",
     "iopub.status.idle": "2023-04-22T02:26:39.456146Z",
     "shell.execute_reply": "2023-04-22T02:26:39.454212Z",
     "shell.execute_reply.started": "2023-04-22T02:26:37.655597Z"
    }
   },
   "outputs": [],
   "source": [
    "# removing summary which only has sostok & eostok\n",
    "def remove_indexes(summary_array):\n",
    "    remove_indexes = []\n",
    "    for i in range(len(summary_array)):\n",
    "        count = 0\n",
    "        for j in summary_array[i]:\n",
    "            if j != 0:\n",
    "                count += 1\n",
    "        if count == 2:\n",
    "            remove_indexes.append(i)\n",
    "    return remove_indexes\n",
    "\n",
    "\n",
    "remove_train_indexes = remove_indexes(y_train_padded)\n",
    "remove_val_indexes = remove_indexes(y_val_padded)\n",
    "\n",
    "y_train_padded = np.delete(y_train_padded, remove_train_indexes, axis=0)\n",
    "x_train_padded = np.delete(x_train_padded, remove_train_indexes, axis=0)\n",
    "\n",
    "y_val_padded = np.delete(y_val_padded, remove_val_indexes, axis=0)\n",
    "x_val_padded = np.delete(x_val_padded, remove_val_indexes, axis=0)"
   ]
  },
  {
   "cell_type": "code",
   "execution_count": 35,
   "id": "00403346",
   "metadata": {
    "execution": {
     "iopub.execute_input": "2023-04-22T02:26:42.042164Z",
     "iopub.status.busy": "2023-04-22T02:26:42.039712Z",
     "iopub.status.idle": "2023-04-22T02:26:42.047899Z",
     "shell.execute_reply": "2023-04-22T02:26:42.046732Z",
     "shell.execute_reply.started": "2023-04-22T02:26:42.042123Z"
    }
   },
   "outputs": [],
   "source": [
    "latent_dim = 240\n",
    "embedding_dim = 300\n",
    "num_epochs = 50"
   ]
  },
  {
   "cell_type": "code",
   "execution_count": 36,
   "id": "f0e8af72",
   "metadata": {
    "execution": {
     "iopub.execute_input": "2023-04-22T02:26:44.840783Z",
     "iopub.status.busy": "2023-04-22T02:26:44.839862Z",
     "iopub.status.idle": "2023-04-22T02:27:26.287787Z",
     "shell.execute_reply": "2023-04-22T02:27:26.286502Z",
     "shell.execute_reply.started": "2023-04-22T02:26:44.840728Z"
    }
   },
   "outputs": [
    {
     "name": "stdout",
     "output_type": "stream",
     "text": [
      "Found 400000 word vectors.\n",
      "Converted 56312 words (42562 misses)\n",
      "Found 400000 word vectors.\n",
      "Converted 27500 words (9676 misses)\n"
     ]
    }
   ],
   "source": [
    "def get_embedding_matrix(tokenizer, embedding_dim, vocab_size=None):\n",
    "    word_index = tokenizer.word_index\n",
    "    voc = list(word_index.keys())\n",
    "\n",
    "    path_to_glove_file = \"/kaggle/input/glove6b300dtxt/glove.6B.300d.txt\"\n",
    "\n",
    "    embeddings_index = {}\n",
    "    with open(path_to_glove_file) as f:\n",
    "        for line in f:\n",
    "            word, coefs = line.split(maxsplit=1)\n",
    "            coefs = np.fromstring(coefs, \"f\", sep=\" \")\n",
    "            embeddings_index[word] = coefs\n",
    "\n",
    "    print(\"Found %s word vectors.\" % len(embeddings_index))\n",
    "\n",
    "    num_tokens = len(voc) + 2 if not vocab_size else vocab_size\n",
    "    hits = 0\n",
    "    misses = 0\n",
    "\n",
    "    # Prepare embedding matrix\n",
    "    embedding_matrix = np.zeros((num_tokens, embedding_dim))\n",
    "    for word, i in word_index.items():\n",
    "        embedding_vector = embeddings_index.get(word)\n",
    "        if embedding_vector is not None:\n",
    "            # Words not found in embedding index will be all-zeros.\n",
    "            # This includes the representation for \"padding\" and \"OOV\"\n",
    "            embedding_matrix[i] = embedding_vector\n",
    "            hits += 1\n",
    "        else:\n",
    "            misses += 1\n",
    "    print(\"Converted %d words (%d misses)\" % (hits, misses))\n",
    "\n",
    "    return embedding_matrix\n",
    "\n",
    "\n",
    "x_embedding_matrix = get_embedding_matrix(x_tokenizer, embedding_dim, x_vocab_size)\n",
    "y_embedding_matrix = get_embedding_matrix(y_tokenizer, embedding_dim, y_vocab_size)"
   ]
  },
  {
   "cell_type": "code",
   "execution_count": 37,
   "id": "a856314e",
   "metadata": {
    "execution": {
     "iopub.execute_input": "2023-04-22T02:27:30.955604Z",
     "iopub.status.busy": "2023-04-22T02:27:30.954671Z",
     "iopub.status.idle": "2023-04-22T02:27:30.961799Z",
     "shell.execute_reply": "2023-04-22T02:27:30.960697Z",
     "shell.execute_reply.started": "2023-04-22T02:27:30.955550Z"
    }
   },
   "outputs": [
    {
     "name": "stdout",
     "output_type": "stream",
     "text": [
      "(98875, 300)\n",
      "(37177, 300)\n"
     ]
    }
   ],
   "source": [
    "print(x_embedding_matrix.shape)\n",
    "print(y_embedding_matrix.shape)"
   ]
  },
  {
   "cell_type": "code",
   "execution_count": 38,
   "id": "81ef2655",
   "metadata": {
    "execution": {
     "iopub.execute_input": "2023-04-22T02:27:34.502776Z",
     "iopub.status.busy": "2023-04-22T02:27:34.502332Z",
     "iopub.status.idle": "2023-04-22T02:27:34.522532Z",
     "shell.execute_reply": "2023-04-22T02:27:34.521484Z",
     "shell.execute_reply.started": "2023-04-22T02:27:34.502741Z"
    }
   },
   "outputs": [],
   "source": [
    "def build_seq2seq_model_with_bidirectional_lstm(\n",
    "    embedding_dim, latent_dim, max_text_len, \n",
    "    x_vocab_size, y_vocab_size,\n",
    "    x_embedding_matrix, y_embedding_matrix\n",
    "):\n",
    "    # instantiating the model in the strategy scope creates the model on the TPU\n",
    "    with tpu_strategy.scope():\n",
    "\n",
    "        #Encoder\n",
    "        encoder_input = Input(shape=(max_text_len, ))\n",
    "\n",
    "        # encoder embedding layer\n",
    "        encoder_embedding = Embedding(\n",
    "            x_vocab_size,\n",
    "            embedding_dim,\n",
    "            embeddings_initializer=tf.keras.initializers.Constant(x_embedding_matrix),\n",
    "            trainable=False,\n",
    "            name='encoder_embedding'\n",
    "        )(encoder_input)\n",
    "\n",
    "        # encoder lstm1\n",
    "        encoder_bi_lstm1 = Bidirectional(\n",
    "            LSTM(\n",
    "                latent_dim,\n",
    "                return_sequences=True,\n",
    "                return_state=True,\n",
    "                dropout=0.4,\n",
    "                recurrent_dropout=0.4,\n",
    "                name='encoder_lstm_1'\n",
    "            ),\n",
    "            name='encoder_bidirectional_lstm_1'\n",
    "        )\n",
    "        encoder_output1, forward_h1, forward_c1, backward_h1, backward_c1 = encoder_bi_lstm1(\n",
    "            encoder_embedding\n",
    "        )\n",
    "        encoder_bi_lstm1_output = [\n",
    "            encoder_output1, forward_h1, forward_c1, backward_h1, backward_c1\n",
    "        ]\n",
    "\n",
    "        # encoder lstm 2\n",
    "        encoder_bi_lstm2 = Bidirectional(\n",
    "            LSTM(\n",
    "                latent_dim,\n",
    "                return_sequences=True,\n",
    "                return_state=True,\n",
    "                dropout=0.4,\n",
    "                recurrent_dropout=0.4,\n",
    "                name='encoder_lstm_2'\n",
    "            ),\n",
    "            name='encoder_bidirectional_lstm_2'\n",
    "        )\n",
    "        encoder_output2, forward_h2, forward_c2, backward_h2, backward_c2 = encoder_bi_lstm2(\n",
    "            encoder_output1\n",
    "        )\n",
    "        encoder_bi_lstm2_output = [\n",
    "            encoder_output2, forward_h2, forward_c2, backward_h2, backward_c2\n",
    "        ]\n",
    "\n",
    "        # encoder lstm 3\n",
    "        encoder_bi_lstm = Bidirectional(\n",
    "            LSTM(\n",
    "                latent_dim,\n",
    "                return_sequences=True,\n",
    "                return_state=True,\n",
    "                dropout=0.4,\n",
    "                recurrent_dropout=0.4,\n",
    "                name='encoder_lstm_3'\n",
    "            ),\n",
    "            name='encoder_bidirectional_lstm_3'\n",
    "        )\n",
    "        encoder_output, *encoder_final_states = encoder_bi_lstm(encoder_output2)\n",
    "\n",
    "       #Decoder\n",
    "\n",
    "        # Set up the decoder, using `encoder_states` as initial state.\n",
    "\n",
    "        decoder_input = Input(shape=(None, ))\n",
    "\n",
    "        # decoder embedding layer\n",
    "        decoder_embedding_layer = Embedding(\n",
    "            y_vocab_size,\n",
    "            embedding_dim,\n",
    "            embeddings_initializer=tf.keras.initializers.Constant(y_embedding_matrix),\n",
    "            trainable=False,\n",
    "            name='decoder_embedding'\n",
    "        )\n",
    "        decoder_embedding = decoder_embedding_layer(decoder_input)\n",
    "        \n",
    "        decoder_bi_lstm = Bidirectional(\n",
    "            LSTM(\n",
    "                latent_dim,\n",
    "                return_sequences=True,\n",
    "                return_state=True,\n",
    "                dropout=0.4,\n",
    "                recurrent_dropout=0.2,\n",
    "                name='decoder_lstm_1'\n",
    "            ),\n",
    "            name='decoder_bidirectional_lstm_1'\n",
    "        )\n",
    "        decoder_output, *decoder_final_states = decoder_bi_lstm(\n",
    "            decoder_embedding, initial_state=encoder_final_states\n",
    "            # decoder_embedding, initial_state=encoder_final_states[:2]\n",
    "        )  # taking only the forward states\n",
    "\n",
    "        # dense layer\n",
    "        decoder_dense = TimeDistributed(\n",
    "            Dense(y_vocab_size, activation='softmax')\n",
    "        )\n",
    "        decoder_output = decoder_dense(decoder_output)\n",
    "\n",
    "        #Model\n",
    "        model = Model([encoder_input, decoder_input], decoder_output, name='seq2seq_model_with_bidirectional_lstm')\n",
    "        model.summary()\n",
    "\n",
    "        optimizer = tf.keras.optimizers.RMSprop(learning_rate=0.001)\n",
    "        model.compile(\n",
    "            optimizer=optimizer,\n",
    "            loss='sparse_categorical_crossentropy',\n",
    "            metrics=['accuracy']\n",
    "        )\n",
    "\n",
    "        return {\n",
    "            'model': model,\n",
    "            'inputs': {\n",
    "                'encoder': encoder_input,\n",
    "                'decoder': decoder_input\n",
    "            },\n",
    "            'outputs': {\n",
    "                'encoder': encoder_output,\n",
    "                'decoder': decoder_output\n",
    "            },\n",
    "            'states': {\n",
    "                'encoder': encoder_final_states,\n",
    "                'decoder': decoder_final_states\n",
    "            },\n",
    "            'layers': {\n",
    "                'decoder': {\n",
    "                    'embedding': decoder_embedding_layer,\n",
    "                    'last_decoder_lstm': decoder_bi_lstm,\n",
    "                    'dense': decoder_dense\n",
    "                }\n",
    "            }\n",
    "        }"
   ]
  },
  {
   "cell_type": "code",
   "execution_count": 39,
   "id": "86cb3190",
   "metadata": {
    "execution": {
     "iopub.execute_input": "2023-04-22T02:27:44.145939Z",
     "iopub.status.busy": "2023-04-22T02:27:44.144875Z",
     "iopub.status.idle": "2023-04-22T02:27:44.151502Z",
     "shell.execute_reply": "2023-04-22T02:27:44.150287Z",
     "shell.execute_reply.started": "2023-04-22T02:27:44.145902Z"
    }
   },
   "outputs": [],
   "source": [
    "callbacks = [\n",
    "    EarlyStopping(monitor='val_loss', mode='min', verbose=1, patience=2),\n",
    "    ReduceLROnPlateau(monitor='val_loss', factor=0.1, patience=2, min_lr=0.000001, verbose=1),\n",
    "]"
   ]
  },
  {
   "cell_type": "code",
   "execution_count": 40,
   "id": "e4f6b876",
   "metadata": {
    "execution": {
     "iopub.execute_input": "2023-04-22T02:27:46.425060Z",
     "iopub.status.busy": "2023-04-22T02:27:46.424599Z",
     "iopub.status.idle": "2023-04-22T02:27:46.430221Z",
     "shell.execute_reply": "2023-04-22T02:27:46.428940Z",
     "shell.execute_reply.started": "2023-04-22T02:27:46.425024Z"
    }
   },
   "outputs": [],
   "source": [
    "# Next, let’s build the dictionary to convert the index to word for target and source vocabulary:\n",
    "reverse_target_word_index = y_tokenizer.index_word\n",
    "reverse_source_word_index = x_tokenizer.index_word\n",
    "target_word_index = y_tokenizer.word_index"
   ]
  },
  {
   "cell_type": "code",
   "execution_count": 41,
   "id": "c34854bf",
   "metadata": {
    "execution": {
     "iopub.execute_input": "2023-04-22T02:27:49.850432Z",
     "iopub.status.busy": "2023-04-22T02:27:49.849861Z",
     "iopub.status.idle": "2023-04-22T02:27:49.858828Z",
     "shell.execute_reply": "2023-04-22T02:27:49.857759Z",
     "shell.execute_reply.started": "2023-04-22T02:27:49.850396Z"
    }
   },
   "outputs": [],
   "source": [
    "def build_seq2seq_model_with_bidirectional_lstm_inference(\n",
    "    max_text_len, latent_dim, encoder_input, encoder_output,\n",
    "    encoder_final_states, decoder_input, decoder_output,\n",
    "    decoder_embedding_layer, decoder_dense, last_decoder_bi_lstm\n",
    "):\n",
    "\n",
    "    # Encode the input sequence to get the feature vector\n",
    "    encoder_model = Model(\n",
    "        inputs=encoder_input, outputs=[encoder_output] + encoder_final_states\n",
    "    )\n",
    "\n",
    "    # Decoder setup\n",
    "    # Below tensors will hold the states of the previous time step\n",
    "    decoder_state_forward_input_h = Input(shape=(latent_dim, ))\n",
    "    decoder_state_forward_input_c = Input(shape=(latent_dim, ))\n",
    "    decoder_state_backward_input_h = Input(shape=(latent_dim, ))\n",
    "    decoder_state_backward_input_c = Input(shape=(latent_dim, ))\n",
    "\n",
    "    # Create the hidden input layer with twice the latent dimension,\n",
    "    # since we are using bi - directional LSTM's we will get \n",
    "    # two hidden states and two cell states\n",
    "    decoder_hidden_state_input = Input(shape=(max_text_len, latent_dim * 2))\n",
    "\n",
    "    decoder_initial_state = [\n",
    "        decoder_state_forward_input_h, decoder_state_forward_input_c,\n",
    "        decoder_state_backward_input_h, decoder_state_backward_input_c\n",
    "    ]\n",
    "\n",
    "    # Get the embeddings of the decoder sequence\n",
    "    decoder_embedding = decoder_embedding_layer(decoder_input)\n",
    "\n",
    "    # To predict the next word in the sequence, set the initial\n",
    "    # states to the states from the previous time step\n",
    "    decoder_output, *decoder_states = last_decoder_bi_lstm(\n",
    "        decoder_embedding, initial_state=decoder_initial_state\n",
    "    )\n",
    "\n",
    "    # A dense softmax layer to generate prob dist. over the target vocabulary\n",
    "    decoder_output = decoder_dense(decoder_output)\n",
    "\n",
    "    # Final decoder model\n",
    "    decoder_model = Model(\n",
    "        [decoder_input] + [decoder_hidden_state_input] + decoder_initial_state,\n",
    "        [decoder_output] + decoder_states\n",
    "    )\n",
    "\n",
    "    return (encoder_model, decoder_model)"
   ]
  },
  {
   "cell_type": "code",
   "execution_count": 42,
   "id": "19b3c945",
   "metadata": {
    "execution": {
     "iopub.execute_input": "2023-04-22T02:27:53.535178Z",
     "iopub.status.busy": "2023-04-22T02:27:53.534704Z",
     "iopub.status.idle": "2023-04-22T02:27:53.543735Z",
     "shell.execute_reply": "2023-04-22T02:27:53.542438Z",
     "shell.execute_reply.started": "2023-04-22T02:27:53.535137Z"
    }
   },
   "outputs": [],
   "source": [
    "def decode_sequence_seq2seq_model_with_bidirectional_lstm(\n",
    "    input_sequence, encoder_model, decoder_model\n",
    "):\n",
    "    # Encode the input as state vectors.\n",
    "    e_out, *state_values = encoder_model.predict(input_sequence)\n",
    "    \n",
    "    # Generate empty target sequence of length 1.\n",
    "    target_seq = np.zeros((1, 1))\n",
    "\n",
    "    # Populate the first word of target sequence with the start word.\n",
    "    target_seq[0, 0] = target_word_index[start_token]\n",
    "\n",
    "    stop_condition = False\n",
    "    decoded_sentence = ''\n",
    "    \n",
    "    while not stop_condition:\n",
    "        output_tokens, *decoder_states = decoder_model.predict(\n",
    "            [target_seq] + [e_out] + state_values\n",
    "        )\n",
    "\n",
    "        # Sample a token\n",
    "        sampled_token_index = np.argmax(output_tokens[0, -1, :]) # Greedy Search\n",
    "        sampled_token = reverse_target_word_index[sampled_token_index + 1]\n",
    "        \n",
    "        if sampled_token != end_token:\n",
    "            decoded_sentence += ' ' + sampled_token\n",
    "\n",
    "        # Exit condition: either hit max length or find stop word.\n",
    "        if (sampled_token == end_token) or (len(decoded_sentence.split()) >= (max_summary_len - 1)):\n",
    "            stop_condition = True\n",
    "\n",
    "        # Update the target sequence (of length 1).\n",
    "        target_seq = np.zeros((1, 1))\n",
    "        target_seq[0, 0] = sampled_token_index\n",
    "\n",
    "        # Update internal states\n",
    "        state_values = decoder_states\n",
    "\n",
    "    return decoded_sentence"
   ]
  },
  {
   "cell_type": "code",
   "execution_count": 43,
   "id": "5066dd2a",
   "metadata": {
    "execution": {
     "iopub.execute_input": "2023-04-22T02:27:57.984945Z",
     "iopub.status.busy": "2023-04-22T02:27:57.984582Z",
     "iopub.status.idle": "2023-04-22T02:27:57.990348Z",
     "shell.execute_reply": "2023-04-22T02:27:57.989041Z",
     "shell.execute_reply.started": "2023-04-22T02:27:57.984913Z"
    }
   },
   "outputs": [],
   "source": [
    "def seq2summary(input_sequence):\n",
    "    new_string = ''\n",
    "    for i in input_sequence:\n",
    "        if (\n",
    "            (i != 0 and i != target_word_index[start_token]) and\n",
    "            (i != target_word_index[end_token])\n",
    "        ):\n",
    "            new_string = new_string + reverse_target_word_index[i] + ' '\n",
    "    return new_string"
   ]
  },
  {
   "cell_type": "code",
   "execution_count": 44,
   "id": "c614e916",
   "metadata": {
    "execution": {
     "iopub.execute_input": "2023-04-22T02:28:00.500946Z",
     "iopub.status.busy": "2023-04-22T02:28:00.500587Z",
     "iopub.status.idle": "2023-04-22T02:28:00.505986Z",
     "shell.execute_reply": "2023-04-22T02:28:00.504968Z",
     "shell.execute_reply.started": "2023-04-22T02:28:00.500917Z"
    }
   },
   "outputs": [],
   "source": [
    "def seq2text(input_sequence):\n",
    "    new_string = ''\n",
    "    for i in input_sequence:\n",
    "        if i != 0:\n",
    "            new_string = new_string + reverse_source_word_index[i] + ' '\n",
    "    return new_string"
   ]
  },
  {
   "cell_type": "code",
   "execution_count": 45,
   "id": "500be305",
   "metadata": {
    "execution": {
     "iopub.execute_input": "2023-04-22T02:28:03.785035Z",
     "iopub.status.busy": "2023-04-22T02:28:03.784680Z",
     "iopub.status.idle": "2023-04-22T02:28:03.794791Z",
     "shell.execute_reply": "2023-04-22T02:28:03.793590Z",
     "shell.execute_reply.started": "2023-04-22T02:28:03.785004Z"
    }
   },
   "outputs": [
    {
     "name": "stdout",
     "output_type": "stream",
     "text": [
      "[1, 2, 3, 4, 5, 6, 7, 8, 9, 10, 0, 0]\n",
      "[1, 2, 3]\n",
      "[4, 5, 6]\n",
      "[7, 8, 9]\n",
      "[10, 0, 0]\n",
      " james ethan  tony\n",
      "james ethan tony\n"
     ]
    }
   ],
   "source": [
    "l = [1, 2, 3, 4, 5, 6, 7, 8, 9, 10]\n",
    "\n",
    "if len(l) % 3 != 0:\n",
    "    while len(l) % 3 != 0:\n",
    "        l.append(0)\n",
    "print(l)\n",
    "\n",
    "lst_i = 3\n",
    "for i in range(0, len(l), 3):\n",
    "    print(l[i:i + lst_i])\n",
    "\n",
    "print(' '.join(['', 'james', 'ethan', '', 'tony']))\n",
    "print(' '.join(' '.join(['', 'james', 'ethan', '', 'tony']).split()))"
   ]
  },
  {
   "cell_type": "code",
   "execution_count": 46,
   "id": "55373094",
   "metadata": {
    "execution": {
     "iopub.execute_input": "2023-04-22T02:28:09.031156Z",
     "iopub.status.busy": "2023-04-22T02:28:09.030787Z",
     "iopub.status.idle": "2023-04-22T02:28:09.042320Z",
     "shell.execute_reply": "2023-04-22T02:28:09.041271Z",
     "shell.execute_reply.started": "2023-04-22T02:28:09.031124Z"
    }
   },
   "outputs": [],
   "source": [
    "def predict_text(text, decode_sequence, encoder_model, decoder_model):\n",
    "    original_text = text\n",
    "    text = clean_text([text])  # generator\n",
    "    text_list = original_text.split()\n",
    "\n",
    "    if len(text_list) <= max_text_len:\n",
    "        text = expand_contractions(text)\n",
    "        text = clean_text(text)\n",
    "        text = f'_START_ {text} _END_'\n",
    "        text = f'{start_token} {text} {end_token}'\n",
    "\n",
    "        seq = x_tokenizer.texts_to_sequences([' '.join(text_list)])\n",
    "        padded = pad_sequences(seq, maxlen=max_text_len, padding='post')\n",
    "        pred_summary = decode_sequence(\n",
    "            padded.reshape(1, max_text_len), encoder_model, decoder_model\n",
    "        )\n",
    "        return pred_summary\n",
    "    else:\n",
    "        pred_summary = ''\n",
    "\n",
    "        # breaking long texts to individual max_text_len texts and predicting on them\n",
    "        while len(text_list) % max_text_len == 0:\n",
    "            text_list.append('')\n",
    "\n",
    "        lst_i = max_text_len\n",
    "        for i in range(0, len(text_list), max_text_len):\n",
    "            _text_list = original_text.split()[i:i + lst_i]\n",
    "            _text = ' '.join(_text_list)\n",
    "            _text = ' '.join(\n",
    "                _text.split()\n",
    "            )  # to remove spaces that were added to make len(text_list) % max_text_len == 0\n",
    "\n",
    "            _text = expand_contractions(_text)\n",
    "            _text = clean_text(_text)  # generator\n",
    "            _text = f'_START_ {_text} _END_'\n",
    "            _text = f'{start_token} {_text} {end_token}'\n",
    "            # print(_text, '\\n')\n",
    "\n",
    "            _seq = x_tokenizer.texts_to_sequences([_text])\n",
    "            _padded = pad_sequences(_seq, maxlen=max_text_len, padding='post')\n",
    "            _pred = decode_sequence(\n",
    "                _padded.reshape(1, max_text_len), encoder_model, decoder_model\n",
    "            )\n",
    "            pred_summary += ' ' + ' '.join(_pred.split()[1:-2])\n",
    "            pred_summary = ' '.join(pred_summary.split())\n",
    "\n",
    "        return pred_summary"
   ]
  },
  {
   "cell_type": "code",
   "execution_count": 47,
   "id": "73fc8b69",
   "metadata": {
    "execution": {
     "iopub.execute_input": "2023-04-22T02:28:13.565321Z",
     "iopub.status.busy": "2023-04-22T02:28:13.564729Z",
     "iopub.status.idle": "2023-04-22T02:28:13.570438Z",
     "shell.execute_reply": "2023-04-22T02:28:13.569284Z",
     "shell.execute_reply.started": "2023-04-22T02:28:13.565284Z"
    }
   },
   "outputs": [],
   "source": [
    "model_info = {\n",
    "    'bidirectional_lstm': {\n",
    "        'model': build_seq2seq_model_with_bidirectional_lstm,\n",
    "        'inference': build_seq2seq_model_with_bidirectional_lstm_inference,\n",
    "        'decode_sequence': decode_sequence_seq2seq_model_with_bidirectional_lstm\n",
    "    }\n",
    "}"
   ]
  },
  {
   "cell_type": "code",
   "execution_count": 48,
   "id": "db0888ca",
   "metadata": {
    "execution": {
     "iopub.execute_input": "2023-04-22T02:28:25.926368Z",
     "iopub.status.busy": "2023-04-22T02:28:25.925992Z",
     "iopub.status.idle": "2023-04-22T02:28:25.932436Z",
     "shell.execute_reply": "2023-04-22T02:28:25.931051Z",
     "shell.execute_reply.started": "2023-04-22T02:28:25.926330Z"
    }
   },
   "outputs": [],
   "source": [
    "model_func = model_info['bidirectional_lstm']['model']\n",
    "inference_func = model_info['bidirectional_lstm']['inference']\n",
    "decode_sequence_func = model_info['bidirectional_lstm']['decode_sequence']"
   ]
  },
  {
   "cell_type": "code",
   "execution_count": 49,
   "id": "a73ac951",
   "metadata": {
    "execution": {
     "iopub.execute_input": "2023-04-22T02:28:35.572239Z",
     "iopub.status.busy": "2023-04-22T02:28:35.571265Z",
     "iopub.status.idle": "2023-04-22T02:28:37.633367Z",
     "shell.execute_reply": "2023-04-22T02:28:37.632547Z",
     "shell.execute_reply.started": "2023-04-22T02:28:35.572200Z"
    }
   },
   "outputs": [
    {
     "name": "stdout",
     "output_type": "stream",
     "text": [
      "Model: \"seq2seq_model_with_bidirectional_lstm\"\n",
      "__________________________________________________________________________________________________\n",
      " Layer (type)                   Output Shape         Param #     Connected to                     \n",
      "==================================================================================================\n",
      " input_1 (InputLayer)           [(None, 42)]         0           []                               \n",
      "                                                                                                  \n",
      " encoder_embedding (Embedding)  (None, 42, 300)      29662500    ['input_1[0][0]']                \n",
      "                                                                                                  \n",
      " encoder_bidirectional_lstm_1 (  [(None, 42, 480),   1038720     ['encoder_embedding[0][0]']      \n",
      " Bidirectional)                  (None, 240),                                                     \n",
      "                                 (None, 240),                                                     \n",
      "                                 (None, 240),                                                     \n",
      "                                 (None, 240)]                                                     \n",
      "                                                                                                  \n",
      " input_2 (InputLayer)           [(None, None)]       0           []                               \n",
      "                                                                                                  \n",
      " encoder_bidirectional_lstm_2 (  [(None, 42, 480),   1384320     ['encoder_bidirectional_lstm_1[0]\n",
      " Bidirectional)                  (None, 240),                    [0]']                            \n",
      "                                 (None, 240),                                                     \n",
      "                                 (None, 240),                                                     \n",
      "                                 (None, 240)]                                                     \n",
      "                                                                                                  \n",
      " decoder_embedding (Embedding)  (None, None, 300)    11153100    ['input_2[0][0]']                \n",
      "                                                                                                  \n",
      " encoder_bidirectional_lstm_3 (  [(None, 42, 480),   1384320     ['encoder_bidirectional_lstm_2[0]\n",
      " Bidirectional)                  (None, 240),                    [0]']                            \n",
      "                                 (None, 240),                                                     \n",
      "                                 (None, 240),                                                     \n",
      "                                 (None, 240)]                                                     \n",
      "                                                                                                  \n",
      " decoder_bidirectional_lstm_1 (  [(None, None, 480),  1038720    ['decoder_embedding[0][0]',      \n",
      " Bidirectional)                  (None, 240),                     'encoder_bidirectional_lstm_3[0]\n",
      "                                 (None, 240),                    [1]',                            \n",
      "                                 (None, 240),                     'encoder_bidirectional_lstm_3[0]\n",
      "                                 (None, 240)]                    [2]',                            \n",
      "                                                                  'encoder_bidirectional_lstm_3[0]\n",
      "                                                                 [3]',                            \n",
      "                                                                  'encoder_bidirectional_lstm_3[0]\n",
      "                                                                 [4]']                            \n",
      "                                                                                                  \n",
      " time_distributed (TimeDistribu  (None, None, 37177)  17882137   ['decoder_bidirectional_lstm_1[0]\n",
      " ted)                                                            [0]']                            \n",
      "                                                                                                  \n",
      "==================================================================================================\n",
      "Total params: 63,543,817\n",
      "Trainable params: 22,728,217\n",
      "Non-trainable params: 40,815,600\n",
      "__________________________________________________________________________________________________\n",
      "Model: \"seq2seq_model_with_bidirectional_lstm\"\n",
      "__________________________________________________________________________________________________\n",
      " Layer (type)                   Output Shape         Param #     Connected to                     \n",
      "==================================================================================================\n",
      " input_1 (InputLayer)           [(None, 42)]         0           []                               \n",
      "                                                                                                  \n",
      " encoder_embedding (Embedding)  (None, 42, 300)      29662500    ['input_1[0][0]']                \n",
      "                                                                                                  \n",
      " encoder_bidirectional_lstm_1 (  [(None, 42, 480),   1038720     ['encoder_embedding[0][0]']      \n",
      " Bidirectional)                  (None, 240),                                                     \n",
      "                                 (None, 240),                                                     \n",
      "                                 (None, 240),                                                     \n",
      "                                 (None, 240)]                                                     \n",
      "                                                                                                  \n",
      " input_2 (InputLayer)           [(None, None)]       0           []                               \n",
      "                                                                                                  \n",
      " encoder_bidirectional_lstm_2 (  [(None, 42, 480),   1384320     ['encoder_bidirectional_lstm_1[0]\n",
      " Bidirectional)                  (None, 240),                    [0]']                            \n",
      "                                 (None, 240),                                                     \n",
      "                                 (None, 240),                                                     \n",
      "                                 (None, 240)]                                                     \n",
      "                                                                                                  \n",
      " decoder_embedding (Embedding)  (None, None, 300)    11153100    ['input_2[0][0]']                \n",
      "                                                                                                  \n",
      " encoder_bidirectional_lstm_3 (  [(None, 42, 480),   1384320     ['encoder_bidirectional_lstm_2[0]\n",
      " Bidirectional)                  (None, 240),                    [0]']                            \n",
      "                                 (None, 240),                                                     \n",
      "                                 (None, 240),                                                     \n",
      "                                 (None, 240)]                                                     \n",
      "                                                                                                  \n",
      " decoder_bidirectional_lstm_1 (  [(None, None, 480),  1038720    ['decoder_embedding[0][0]',      \n",
      " Bidirectional)                  (None, 240),                     'encoder_bidirectional_lstm_3[0]\n",
      "                                 (None, 240),                    [1]',                            \n",
      "                                 (None, 240),                     'encoder_bidirectional_lstm_3[0]\n",
      "                                 (None, 240)]                    [2]',                            \n",
      "                                                                  'encoder_bidirectional_lstm_3[0]\n",
      "                                                                 [3]',                            \n",
      "                                                                  'encoder_bidirectional_lstm_3[0]\n",
      "                                                                 [4]']                            \n",
      "                                                                                                  \n",
      " time_distributed (TimeDistribu  (None, None, 37177)  17882137   ['decoder_bidirectional_lstm_1[0]\n",
      " ted)                                                            [0]']                            \n",
      "                                                                                                  \n",
      "==================================================================================================\n",
      "Total params: 63,543,817\n",
      "Trainable params: 22,728,217\n",
      "Non-trainable params: 40,815,600\n",
      "__________________________________________________________________________________________________\n"
     ]
    }
   ],
   "source": [
    "seq2seq = model_func(\n",
    "    embedding_dim, latent_dim, max_text_len, \n",
    "    x_vocab_size, y_vocab_size,\n",
    "    x_embedding_matrix, y_embedding_matrix\n",
    ")\n",
    "\n",
    "model = seq2seq['model']\n",
    "\n",
    "encoder_input = seq2seq['inputs']['encoder']\n",
    "decoder_input = seq2seq['inputs']['decoder']\n",
    "\n",
    "encoder_output = seq2seq['outputs']['encoder']\n",
    "decoder_output = seq2seq['outputs']['decoder']\n",
    "\n",
    "encoder_final_states = seq2seq['states']['encoder']\n",
    "decoder_final_states = seq2seq['states']['decoder']\n",
    "\n",
    "decoder_embedding_layer = seq2seq['layers']['decoder']['embedding']\n",
    "last_decoder_lstm = seq2seq['layers']['decoder']['last_decoder_lstm']\n",
    "decoder_dense = seq2seq['layers']['decoder']['dense']\n",
    "\n",
    "model.summary()"
   ]
  },
  {
   "cell_type": "code",
   "execution_count": 50,
   "id": "b765e437",
   "metadata": {
    "execution": {
     "iopub.execute_input": "2023-04-22T02:28:44.005249Z",
     "iopub.status.busy": "2023-04-22T02:28:44.004891Z",
     "iopub.status.idle": "2023-04-22T13:35:12.801986Z",
     "shell.execute_reply": "2023-04-22T13:35:12.800986Z",
     "shell.execute_reply.started": "2023-04-22T02:28:44.005219Z"
    }
   },
   "outputs": [
    {
     "name": "stdout",
     "output_type": "stream",
     "text": [
      "Epoch 1/50\n",
      "674/674 [==============================] - 819s 1s/step - loss: 4.9396 - accuracy: 0.4300 - val_loss: 4.0488 - val_accuracy: 0.4932 - lr: 0.0010\n",
      "Epoch 2/50\n",
      "674/674 [==============================] - 807s 1s/step - loss: 3.8169 - accuracy: 0.5183 - val_loss: 3.1512 - val_accuracy: 0.5810 - lr: 0.0010\n",
      "Epoch 3/50\n",
      "674/674 [==============================] - 804s 1s/step - loss: 3.1123 - accuracy: 0.5939 - val_loss: 2.5547 - val_accuracy: 0.6553 - lr: 0.0010\n",
      "Epoch 4/50\n",
      "674/674 [==============================] - 790s 1s/step - loss: 2.6295 - accuracy: 0.6528 - val_loss: 2.1406 - val_accuracy: 0.7130 - lr: 0.0010\n",
      "Epoch 5/50\n",
      "674/674 [==============================] - 791s 1s/step - loss: 2.2756 - accuracy: 0.6985 - val_loss: 1.8496 - val_accuracy: 0.7503 - lr: 0.0010\n",
      "Epoch 6/50\n",
      "674/674 [==============================] - 793s 1s/step - loss: 2.0115 - accuracy: 0.7328 - val_loss: 1.6315 - val_accuracy: 0.7793 - lr: 0.0010\n",
      "Epoch 7/50\n",
      "674/674 [==============================] - 794s 1s/step - loss: 1.8017 - accuracy: 0.7604 - val_loss: 1.4582 - val_accuracy: 0.8021 - lr: 0.0010\n",
      "Epoch 8/50\n",
      "674/674 [==============================] - 792s 1s/step - loss: 1.6340 - accuracy: 0.7816 - val_loss: 1.3221 - val_accuracy: 0.8200 - lr: 0.0010\n",
      "Epoch 9/50\n",
      "674/674 [==============================] - 793s 1s/step - loss: 1.4943 - accuracy: 0.8001 - val_loss: 1.2105 - val_accuracy: 0.8350 - lr: 0.0010\n",
      "Epoch 10/50\n",
      "674/674 [==============================] - 788s 1s/step - loss: 1.3768 - accuracy: 0.8153 - val_loss: 1.1208 - val_accuracy: 0.8461 - lr: 0.0010\n",
      "Epoch 11/50\n",
      "674/674 [==============================] - 800s 1s/step - loss: 1.2775 - accuracy: 0.8281 - val_loss: 1.0432 - val_accuracy: 0.8559 - lr: 0.0010\n",
      "Epoch 12/50\n",
      "674/674 [==============================] - 809s 1s/step - loss: 1.1899 - accuracy: 0.8394 - val_loss: 0.9783 - val_accuracy: 0.8644 - lr: 0.0010\n",
      "Epoch 13/50\n",
      "674/674 [==============================] - 810s 1s/step - loss: 1.1143 - accuracy: 0.8495 - val_loss: 0.9223 - val_accuracy: 0.8716 - lr: 0.0010\n",
      "Epoch 14/50\n",
      "674/674 [==============================] - 820s 1s/step - loss: 1.0459 - accuracy: 0.8584 - val_loss: 0.8726 - val_accuracy: 0.8791 - lr: 0.0010\n",
      "Epoch 15/50\n",
      "674/674 [==============================] - 795s 1s/step - loss: 0.9855 - accuracy: 0.8658 - val_loss: 0.8291 - val_accuracy: 0.8836 - lr: 0.0010\n",
      "Epoch 16/50\n",
      "674/674 [==============================] - 792s 1s/step - loss: 0.9309 - accuracy: 0.8727 - val_loss: 0.7879 - val_accuracy: 0.8902 - lr: 0.0010\n",
      "Epoch 17/50\n",
      "674/674 [==============================] - 788s 1s/step - loss: 0.8819 - accuracy: 0.8789 - val_loss: 0.7535 - val_accuracy: 0.8943 - lr: 0.0010\n",
      "Epoch 18/50\n",
      "674/674 [==============================] - 804s 1s/step - loss: 0.8368 - accuracy: 0.8847 - val_loss: 0.7245 - val_accuracy: 0.8970 - lr: 0.0010\n",
      "Epoch 19/50\n",
      "674/674 [==============================] - 801s 1s/step - loss: 0.7953 - accuracy: 0.8900 - val_loss: 0.6957 - val_accuracy: 0.9013 - lr: 0.0010\n",
      "Epoch 20/50\n",
      "674/674 [==============================] - 802s 1s/step - loss: 0.7574 - accuracy: 0.8949 - val_loss: 0.6710 - val_accuracy: 0.9044 - lr: 0.0010\n",
      "Epoch 21/50\n",
      "674/674 [==============================] - 801s 1s/step - loss: 0.7223 - accuracy: 0.8994 - val_loss: 0.6485 - val_accuracy: 0.9073 - lr: 0.0010\n",
      "Epoch 22/50\n",
      "674/674 [==============================] - 795s 1s/step - loss: 0.6896 - accuracy: 0.9037 - val_loss: 0.6278 - val_accuracy: 0.9099 - lr: 0.0010\n",
      "Epoch 23/50\n",
      "674/674 [==============================] - 796s 1s/step - loss: 0.6590 - accuracy: 0.9076 - val_loss: 0.6076 - val_accuracy: 0.9116 - lr: 0.0010\n",
      "Epoch 24/50\n",
      "674/674 [==============================] - 797s 1s/step - loss: 0.6314 - accuracy: 0.9110 - val_loss: 0.5913 - val_accuracy: 0.9145 - lr: 0.0010\n",
      "Epoch 25/50\n",
      "674/674 [==============================] - 795s 1s/step - loss: 0.5799 - accuracy: 0.9179 - val_loss: 0.5588 - val_accuracy: 0.9180 - lr: 0.0010\n",
      "Epoch 27/50\n",
      "674/674 [==============================] - 799s 1s/step - loss: 0.5561 - accuracy: 0.9211 - val_loss: 0.5465 - val_accuracy: 0.9195 - lr: 0.0010\n",
      "Epoch 28/50\n",
      "674/674 [==============================] - 795s 1s/step - loss: 0.5333 - accuracy: 0.9241 - val_loss: 0.5329 - val_accuracy: 0.9214 - lr: 0.0010\n",
      "Epoch 29/50\n",
      "674/674 [==============================] - 793s 1s/step - loss: 0.5130 - accuracy: 0.9266 - val_loss: 0.5211 - val_accuracy: 0.9224 - lr: 0.0010\n",
      "Epoch 30/50\n",
      "674/674 [==============================] - 802s 1s/step - loss: 0.4934 - accuracy: 0.9294 - val_loss: 0.5086 - val_accuracy: 0.9242 - lr: 0.0010\n",
      "Epoch 31/50\n",
      "674/674 [==============================] - 798s 1s/step - loss: 0.4745 - accuracy: 0.9319 - val_loss: 0.4986 - val_accuracy: 0.9257 - lr: 0.0010\n",
      "Epoch 32/50\n",
      "674/674 [==============================] - 805s 1s/step - loss: 0.4567 - accuracy: 0.9342 - val_loss: 0.4904 - val_accuracy: 0.9261 - lr: 0.0010\n",
      "Epoch 33/50\n",
      "674/674 [==============================] - 804s 1s/step - loss: 0.4398 - accuracy: 0.9366 - val_loss: 0.4814 - val_accuracy: 0.9277 - lr: 0.0010\n",
      "Epoch 34/50\n",
      "674/674 [==============================] - 804s 1s/step - loss: 0.4236 - accuracy: 0.9388 - val_loss: 0.4710 - val_accuracy: 0.9292 - lr: 0.0010\n",
      "Epoch 35/50\n",
      "674/674 [==============================] - 801s 1s/step - loss: 0.4083 - accuracy: 0.9410 - val_loss: 0.4633 - val_accuracy: 0.9301 - lr: 0.0010\n",
      "Epoch 36/50\n",
      "674/674 [==============================] - 803s 1s/step - loss: 0.3936 - accuracy: 0.9428 - val_loss: 0.4555 - val_accuracy: 0.9308 - lr: 0.0010\n",
      "Epoch 37/50\n",
      "674/674 [==============================] - 802s 1s/step - loss: 0.3796 - accuracy: 0.9448 - val_loss: 0.4486 - val_accuracy: 0.9318 - lr: 0.0010\n",
      "Epoch 38/50\n",
      "674/674 [==============================] - 804s 1s/step - loss: 0.3656 - accuracy: 0.9470 - val_loss: 0.4422 - val_accuracy: 0.9323 - lr: 0.0010\n",
      "Epoch 39/50\n",
      "674/674 [==============================] - 805s 1s/step - loss: 0.3534 - accuracy: 0.9485 - val_loss: 0.4361 - val_accuracy: 0.9334 - lr: 0.0010\n",
      "Epoch 40/50\n",
      "674/674 [==============================] - 803s 1s/step - loss: 0.3408 - accuracy: 0.9502 - val_loss: 0.4293 - val_accuracy: 0.9340 - lr: 0.0010\n",
      "Epoch 41/50\n",
      "674/674 [==============================] - 801s 1s/step - loss: 0.3291 - accuracy: 0.9520 - val_loss: 0.4248 - val_accuracy: 0.9344 - lr: 0.0010\n",
      "Epoch 42/50\n",
      "674/674 [==============================] - 802s 1s/step - loss: 0.3181 - accuracy: 0.9535 - val_loss: 0.4190 - val_accuracy: 0.9351 - lr: 0.0010\n",
      "Epoch 43/50\n",
      "674/674 [==============================] - 800s 1s/step - loss: 0.3070 - accuracy: 0.9550 - val_loss: 0.4161 - val_accuracy: 0.9352 - lr: 0.0010\n",
      "Epoch 44/50\n",
      "674/674 [==============================] - 799s 1s/step - loss: 0.2970 - accuracy: 0.9566 - val_loss: 0.4093 - val_accuracy: 0.9365 - lr: 0.0010\n",
      "Epoch 45/50\n",
      "674/674 [==============================] - 803s 1s/step - loss: 0.2870 - accuracy: 0.9582 - val_loss: 0.4048 - val_accuracy: 0.9370 - lr: 0.0010\n",
      "Epoch 46/50\n",
      "674/674 [==============================] - 806s 1s/step - loss: 0.2771 - accuracy: 0.9596 - val_loss: 0.4015 - val_accuracy: 0.9370 - lr: 0.0010\n",
      "Epoch 47/50\n",
      "674/674 [==============================] - 795s 1s/step - loss: 0.2678 - accuracy: 0.9611 - val_loss: 0.3962 - val_accuracy: 0.9380 - lr: 0.0010\n",
      "Epoch 48/50\n",
      "674/674 [==============================] - 797s 1s/step - loss: 0.2592 - accuracy: 0.9628 - val_loss: 0.3936 - val_accuracy: 0.9381 - lr: 0.0010\n",
      "Epoch 49/50\n",
      "674/674 [==============================] - 797s 1s/step - loss: 0.2505 - accuracy: 0.9639 - val_loss: 0.3906 - val_accuracy: 0.9388 - lr: 0.0010\n",
      "Epoch 50/50\n",
      "674/674 [==============================] - 800s 1s/step - loss: 0.2425 - accuracy: 0.9654 - val_loss: 0.3865 - val_accuracy: 0.9390 - lr: 0.0010\n"
     ]
    }
   ],
   "source": [
    "history = model.fit(\n",
    "    [x_train_padded, y_train_padded[:, :-1]],\n",
    "    y_train_padded.reshape(y_train_padded.shape[0], y_train_padded.shape[1], 1)[:, 1:],\n",
    "    epochs=num_epochs,\n",
    "    batch_size=128 * tpu_strategy.num_replicas_in_sync,\n",
    "    callbacks=callbacks,\n",
    "    validation_data=(\n",
    "        [x_val_padded, y_val_padded[:, :-1]],\n",
    "        y_val_padded.reshape(y_val_padded.shape[0], y_val_padded.shape[1], 1)[:, 1:]\n",
    "    )\n",
    ")"
   ]
  },
  {
   "cell_type": "code",
   "execution_count": 51,
   "id": "e7efbc90",
   "metadata": {
    "execution": {
     "iopub.execute_input": "2023-04-22T13:35:20.827174Z",
     "iopub.status.busy": "2023-04-22T13:35:20.826434Z",
     "iopub.status.idle": "2023-04-22T13:35:52.720369Z",
     "shell.execute_reply": "2023-04-22T13:35:52.719302Z",
     "shell.execute_reply.started": "2023-04-22T13:35:20.827136Z"
    }
   },
   "outputs": [],
   "source": [
    "model.save('dl_innovative.h5')"
   ]
  },
  {
   "cell_type": "code",
   "execution_count": 1,
   "id": "ff1d24c5",
   "metadata": {
    "execution": {
     "iopub.execute_input": "2023-04-22T15:37:32.206701Z",
     "iopub.status.busy": "2023-04-22T15:37:32.206248Z",
     "iopub.status.idle": "2023-04-22T15:37:32.296159Z",
     "shell.execute_reply": "2023-04-22T15:37:32.295185Z",
     "shell.execute_reply.started": "2023-04-22T15:37:32.206655Z"
    }
   },
   "outputs": [],
   "source": [
    "import pickle\n",
    "import joblib"
   ]
  },
  {
   "cell_type": "code",
   "execution_count": 2,
   "id": "2ee417b2",
   "metadata": {
    "execution": {
     "iopub.execute_input": "2023-04-22T15:37:37.241222Z",
     "iopub.status.busy": "2023-04-22T15:37:37.240468Z",
     "iopub.status.idle": "2023-04-22T15:37:37.303699Z",
     "shell.execute_reply": "2023-04-22T15:37:37.302248Z",
     "shell.execute_reply.started": "2023-04-22T15:37:37.241178Z"
    }
   },
   "outputs": [
    {
     "ename": "NameError",
     "evalue": "name 'model' is not defined",
     "output_type": "error",
     "traceback": [
      "\u001b[0;31m---------------------------------------------------------------------------\u001b[0m",
      "\u001b[0;31mNameError\u001b[0m                                 Traceback (most recent call last)",
      "\u001b[0;32m/tmp/ipykernel_23/268437477.py\u001b[0m in \u001b[0;36m<module>\u001b[0;34m\u001b[0m\n\u001b[1;32m      1\u001b[0m \u001b[0;31m# using joblib\u001b[0m\u001b[0;34m\u001b[0m\u001b[0;34m\u001b[0m\u001b[0;34m\u001b[0m\u001b[0m\n\u001b[0;32m----> 2\u001b[0;31m \u001b[0mjoblib\u001b[0m\u001b[0;34m.\u001b[0m\u001b[0mdump\u001b[0m\u001b[0;34m(\u001b[0m\u001b[0mmodel\u001b[0m\u001b[0;34m,\u001b[0m \u001b[0;34m'model.joblib'\u001b[0m\u001b[0;34m)\u001b[0m\u001b[0;34m\u001b[0m\u001b[0;34m\u001b[0m\u001b[0m\n\u001b[0m",
      "\u001b[0;31mNameError\u001b[0m: name 'model' is not defined"
     ]
    }
   ],
   "source": [
    "# using joblib\n",
    "joblib.dump(model, 'model.joblib')"
   ]
  },
  {
   "cell_type": "code",
   "execution_count": 52,
   "id": "d85af222",
   "metadata": {
    "execution": {
     "iopub.execute_input": "2023-04-22T13:36:05.570495Z",
     "iopub.status.busy": "2023-04-22T13:36:05.570116Z",
     "iopub.status.idle": "2023-04-22T13:36:05.793405Z",
     "shell.execute_reply": "2023-04-22T13:36:05.792389Z",
     "shell.execute_reply.started": "2023-04-22T13:36:05.570444Z"
    }
   },
   "outputs": [
    {
     "data": {
      "text/plain": [
       "<matplotlib.legend.Legend at 0x740a62e0ef90>"
      ]
     },
     "execution_count": 52,
     "metadata": {},
     "output_type": "execute_result"
    },
    {
     "data": {
      "image/png": "[encoded data removed]",
      "text/plain": [
       "<Figure size 640x480 with 1 Axes>"
      ]
     },
     "metadata": {},
     "output_type": "display_data"
    }
   ],
   "source": [
    "# Accuracy\n",
    "plt.plot(history.history['accuracy'][1:], label='train acc')\n",
    "plt.plot(history.history['val_accuracy'], label='val')\n",
    "plt.xlabel('Epoch')\n",
    "plt.ylabel('Accuracy')\n",
    "plt.legend(loc='lower right')"
   ]
  },
  {
   "cell_type": "code",
   "execution_count": 55,
   "id": "b52dc585",
   "metadata": {
    "execution": {
     "iopub.execute_input": "2023-04-22T13:36:28.951214Z",
     "iopub.status.busy": "2023-04-22T13:36:28.950126Z",
     "iopub.status.idle": "2023-04-22T13:36:29.176464Z",
     "shell.execute_reply": "2023-04-22T13:36:29.175484Z",
     "shell.execute_reply.started": "2023-04-22T13:36:28.951164Z"
    }
   },
   "outputs": [
    {
     "data": {
      "text/plain": [
       "<matplotlib.legend.Legend at 0x740a8a43d7d0>"
      ]
     },
     "execution_count": 55,
     "metadata": {},
     "output_type": "execute_result"
    },
    {
     "data": {
      "image/png": "[encoded data removed]",
      "text/plain": [
       "<Figure size 640x480 with 1 Axes>"
      ]
     },
     "metadata": {},
     "output_type": "display_data"
    }
   ],
   "source": [
    "# Loss\n",
    "plt.plot(history.history['loss'][1:], label='train loss')\n",
    "plt.plot(history.history['val_loss'], label='val')\n",
    "plt.xlabel('Epoch')\n",
    "plt.ylabel('Loss')\n",
    "plt.legend(loc='upper right')"
   ]
  },
  {
   "cell_type": "code",
   "execution_count": 56,
   "id": "af8b07e0",
   "metadata": {
    "execution": {
     "iopub.execute_input": "2023-04-22T13:36:36.751027Z",
     "iopub.status.busy": "2023-04-22T13:36:36.750335Z",
     "iopub.status.idle": "2023-04-22T13:36:36.994692Z",
     "shell.execute_reply": "2023-04-22T13:36:36.993686Z",
     "shell.execute_reply.started": "2023-04-22T13:36:36.750989Z"
    }
   },
   "outputs": [],
   "source": [
    "# Inference\n",
    "encoder_model, decoder_model = inference_func(\n",
    "    max_text_len, latent_dim, encoder_input, encoder_output,\n",
    "    encoder_final_states, decoder_input, decoder_output,\n",
    "    decoder_embedding_layer, decoder_dense, last_decoder_lstm\n",
    ")"
   ]
  },
  {
   "cell_type": "code",
   "execution_count": 57,
   "id": "c14986a1",
   "metadata": {
    "execution": {
     "iopub.execute_input": "2023-04-22T13:36:40.070661Z",
     "iopub.status.busy": "2023-04-22T13:36:40.070279Z",
     "iopub.status.idle": "2023-04-22T13:36:40.111820Z",
     "shell.execute_reply": "2023-04-22T13:36:40.111064Z",
     "shell.execute_reply.started": "2023-04-22T13:36:40.070628Z"
    }
   },
   "outputs": [
    {
     "name": "stdout",
     "output_type": "stream",
     "text": [
      "Model: \"model\"\n",
      "_________________________________________________________________\n",
      " Layer (type)                Output Shape              Param #   \n",
      "=================================================================\n",
      " input_1 (InputLayer)        [(None, 42)]              0         \n",
      "                                                                 \n",
      " encoder_embedding (Embeddin  (None, 42, 300)          29662500  \n",
      " g)                                                              \n",
      "                                                                 \n",
      " encoder_bidirectional_lstm_  [(None, 42, 480),        1038720   \n",
      " 1 (Bidirectional)            (None, 240),                       \n",
      "                              (None, 240),                       \n",
      "                              (None, 240),                       \n",
      "                              (None, 240)]                       \n",
      "                                                                 \n",
      " encoder_bidirectional_lstm_  [(None, 42, 480),        1384320   \n",
      " 2 (Bidirectional)            (None, 240),                       \n",
      "                              (None, 240),                       \n",
      "                              (None, 240),                       \n",
      "                              (None, 240)]                       \n",
      "                                                                 \n",
      " encoder_bidirectional_lstm_  [(None, 42, 480),        1384320   \n",
      " 3 (Bidirectional)            (None, 240),                       \n",
      "                              (None, 240),                       \n",
      "                              (None, 240),                       \n",
      "                              (None, 240)]                       \n",
      "                                                                 \n",
      "=================================================================\n",
      "Total params: 33,469,860\n",
      "Trainable params: 3,807,360\n",
      "Non-trainable params: 29,662,500\n",
      "_________________________________________________________________\n"
     ]
    }
   ],
   "source": [
    "encoder_model.summary()"
   ]
  },
  {
   "cell_type": "code",
   "execution_count": 58,
   "id": "135ad9e8",
   "metadata": {
    "execution": {
     "iopub.execute_input": "2023-04-22T13:36:44.550457Z",
     "iopub.status.busy": "2023-04-22T13:36:44.550081Z",
     "iopub.status.idle": "2023-04-22T13:36:44.585039Z",
     "shell.execute_reply": "2023-04-22T13:36:44.584210Z",
     "shell.execute_reply.started": "2023-04-22T13:36:44.550423Z"
    }
   },
   "outputs": [
    {
     "name": "stdout",
     "output_type": "stream",
     "text": [
      "Model: \"model_1\"\n",
      "__________________________________________________________________________________________________\n",
      " Layer (type)                   Output Shape         Param #     Connected to                     \n",
      "==================================================================================================\n",
      " input_2 (InputLayer)           [(None, None)]       0           []                               \n",
      "                                                                                                  \n",
      " decoder_embedding (Embedding)  (None, None, 300)    11153100    ['input_2[0][0]']                \n",
      "                                                                                                  \n",
      " input_3 (InputLayer)           [(None, 240)]        0           []                               \n",
      "                                                                                                  \n",
      " input_4 (InputLayer)           [(None, 240)]        0           []                               \n",
      "                                                                                                  \n",
      " input_5 (InputLayer)           [(None, 240)]        0           []                               \n",
      "                                                                                                  \n",
      " input_6 (InputLayer)           [(None, 240)]        0           []                               \n",
      "                                                                                                  \n",
      " decoder_bidirectional_lstm_1 (  [(None, None, 480),  1038720    ['decoder_embedding[1][0]',      \n",
      " Bidirectional)                  (None, 240),                     'input_3[0][0]',                \n",
      "                                 (None, 240),                     'input_4[0][0]',                \n",
      "                                 (None, 240),                     'input_5[0][0]',                \n",
      "                                 (None, 240)]                     'input_6[0][0]']                \n",
      "                                                                                                  \n",
      " input_7 (InputLayer)           [(None, 42, 480)]    0           []                               \n",
      "                                                                                                  \n",
      " time_distributed (TimeDistribu  (None, None, 37177)  17882137   ['decoder_bidirectional_lstm_1[1]\n",
      " ted)                                                            [0]']                            \n",
      "                                                                                                  \n",
      "==================================================================================================\n",
      "Total params: 30,073,957\n",
      "Trainable params: 18,920,857\n",
      "Non-trainable params: 11,153,100\n",
      "__________________________________________________________________________________________________\n"
     ]
    }
   ],
   "source": [
    "decoder_model.summary()"
   ]
  },
  {
   "cell_type": "code",
   "execution_count": 59,
   "id": "344f9a53",
   "metadata": {
    "execution": {
     "iopub.execute_input": "2023-04-22T13:36:48.141390Z",
     "iopub.status.busy": "2023-04-22T13:36:48.140340Z",
     "iopub.status.idle": "2023-04-22T13:36:59.444048Z",
     "shell.execute_reply": "2023-04-22T13:36:59.443075Z",
     "shell.execute_reply.started": "2023-04-22T13:36:48.141337Z"
    }
   },
   "outputs": [
    {
     "name": "stdout",
     "output_type": "stream",
     "text": [
      "# 1 News:  twinkle khanna revealed one fantasies standup comic adding husband akshay ku told meto never go back acting todo standup comedy im terrible said practices standup comedy front mirror saying things make people nota difficult thing added \n",
      "Original summary:  start akshay said im terrible acting standup comedy twinkle end \n",
      "1/1 [==============================] - 1s 1s/step\n",
      "1/1 [==============================] - 0s 393ms/step\n",
      "1/1 [==============================] - 0s 23ms/step\n",
      "1/1 [==============================] - 0s 24ms/step\n",
      "1/1 [==============================] - 0s 22ms/step\n",
      "1/1 [==============================] - 0s 23ms/step\n",
      "1/1 [==============================] - 0s 22ms/step\n",
      "1/1 [==============================] - 0s 22ms/step\n",
      "1/1 [==============================] - 0s 22ms/step\n",
      "1/1 [==============================] - 0s 22ms/step\n",
      "1/1 [==============================] - 0s 22ms/step\n",
      "1/1 [==============================] - 0s 22ms/step\n",
      "1/1 [==============================] - 0s 23ms/step\n",
      "Predicted summary:   sostok end start us start beat start beat start beat start beat\n",
      "\n",
      "# 2 News:  delhi chief minister arvind kejriwal friday reconstituted threemember delhi minorities commission period three years securing approval lt governor anil baijal scholar journalist zafarul islam khan appointed chairperson commission anastasia gill kartar singh kochhar members panel \n",
      "Original summary:  start kejriwal reconstitutes delhi minorities commission end \n",
      "1/1 [==============================] - 0s 92ms/step\n",
      "1/1 [==============================] - 0s 25ms/step\n",
      "1/1 [==============================] - 0s 24ms/step\n",
      "1/1 [==============================] - 0s 23ms/step\n",
      "1/1 [==============================] - 0s 22ms/step\n",
      "1/1 [==============================] - 0s 22ms/step\n",
      "1/1 [==============================] - 0s 22ms/step\n",
      "1/1 [==============================] - 0s 22ms/step\n",
      "1/1 [==============================] - 0s 22ms/step\n",
      "1/1 [==============================] - 0s 22ms/step\n",
      "1/1 [==============================] - 0s 22ms/step\n",
      "1/1 [==============================] - 0s 22ms/step\n",
      "1/1 [==============================] - 0s 23ms/step\n",
      "Predicted summary:   sostok end start us start waste start waste start waste start angelina\n",
      "\n",
      "# 3 News:  islamist terror plot assassinate uk pm theresa may foiled countrys security forces according official report terrorists planned detonate improvised bomb downing street pms office located kill may police said ninth plot thwarted since yearnn \n",
      "Original summary:  start islamist terror plot assassinate uk pm theresa may foiled end \n",
      "1/1 [==============================] - 0s 82ms/step\n",
      "1/1 [==============================] - 0s 22ms/step\n",
      "1/1 [==============================] - 0s 22ms/step\n",
      "1/1 [==============================] - 0s 22ms/step\n",
      "1/1 [==============================] - 0s 22ms/step\n",
      "1/1 [==============================] - 0s 23ms/step\n",
      "1/1 [==============================] - 0s 22ms/step\n",
      "1/1 [==============================] - 0s 23ms/step\n",
      "1/1 [==============================] - 0s 22ms/step\n",
      "1/1 [==============================] - 0s 24ms/step\n",
      "1/1 [==============================] - 0s 23ms/step\n",
      "1/1 [==============================] - 0s 22ms/step\n",
      "1/1 [==============================] - 0s 22ms/step\n",
      "Predicted summary:   end end end end end end end end end end end end\n",
      "\n",
      "# 4 News:  drug lord pablo escobars hitman jhon jairo velasquez nicknamed popeye arrested colombia part investigation extortion velasquez released parole confessed murders served years jail currently appears youtube videos propagating political views \n",
      "Original summary:  start drug lord pablo escobars hitman popeye held colombia end \n",
      "1/1 [==============================] - 0s 81ms/step\n",
      "1/1 [==============================] - 0s 23ms/step\n",
      "1/1 [==============================] - 0s 24ms/step\n",
      "1/1 [==============================] - 0s 22ms/step\n",
      "1/1 [==============================] - 0s 22ms/step\n",
      "1/1 [==============================] - 0s 22ms/step\n",
      "1/1 [==============================] - 0s 22ms/step\n",
      "1/1 [==============================] - 0s 49ms/step\n",
      "1/1 [==============================] - 0s 28ms/step\n",
      "1/1 [==============================] - 0s 23ms/step\n",
      "1/1 [==============================] - 0s 23ms/step\n",
      "1/1 [==============================] - 0s 23ms/step\n",
      "1/1 [==============================] - 0s 22ms/step\n",
      "Predicted summary:   sostok end start us start indias start indias start indias start indias\n",
      "\n",
      "# 5 News:  bengalurubased hotel chain treebo wednesday raised million a1 crore series funding funding round led hong kongbased investment firms ward ferry management karst peak capital existing investors saif partners bertelsmann india investments also participated round founded treebo total funding million a1 crore \n",
      "Original summary:  start hotel chain treebo raises million series funding end \n",
      "1/1 [==============================] - 0s 82ms/step\n",
      "1/1 [==============================] - 0s 22ms/step\n",
      "1/1 [==============================] - 0s 23ms/step\n",
      "1/1 [==============================] - 0s 25ms/step\n",
      "1/1 [==============================] - 0s 24ms/step\n",
      "1/1 [==============================] - 0s 23ms/step\n",
      "1/1 [==============================] - 0s 22ms/step\n",
      "1/1 [==============================] - 0s 22ms/step\n",
      "1/1 [==============================] - 0s 22ms/step\n",
      "1/1 [==============================] - 0s 24ms/step\n",
      "1/1 [==============================] - 0s 25ms/step\n",
      "1/1 [==============================] - 0s 25ms/step\n",
      "1/1 [==============================] - 0s 23ms/step\n",
      "Predicted summary:   end end end end end end end end end end end end\n",
      "\n",
      "# 6 News:  sonakshi sinha varun sharma collaborating film also star annu kapoor per reports film directed debutante shilpi dasgupta written gautam mehra reports suggested talking character film sonakshi said play small town girl face hilariouschallenges thrown \n",
      "Original summary:  start sonakshi sinha star varun sharma film reports end \n",
      "1/1 [==============================] - 0s 81ms/step\n",
      "1/1 [==============================] - 0s 22ms/step\n",
      "1/1 [==============================] - 0s 22ms/step\n",
      "1/1 [==============================] - 0s 22ms/step\n",
      "1/1 [==============================] - 0s 23ms/step\n",
      "1/1 [==============================] - 0s 23ms/step\n",
      "1/1 [==============================] - 0s 22ms/step\n",
      "1/1 [==============================] - 0s 22ms/step\n",
      "1/1 [==============================] - 0s 22ms/step\n",
      "1/1 [==============================] - 0s 22ms/step\n",
      "1/1 [==============================] - 0s 22ms/step\n",
      "1/1 [==============================] - 0s 22ms/step\n",
      "1/1 [==============================] - 0s 24ms/step\n",
      "Predicted summary:   sostok end start us start nominated start hacked start rajamouli start rajamouli\n",
      "\n",
      "# 7 News:  photosharing app instagram introduced new feature allows users hide posts feed certain accounts without unfollowing feature called mute let users see posts accounts profile page even muted notify posts tagged accounts users mute notified instagram said \n",
      "Original summary:  start instagram lets users hide account posts without unfollowing end \n",
      "1/1 [==============================] - 0s 82ms/step\n",
      "1/1 [==============================] - 0s 23ms/step\n",
      "1/1 [==============================] - 0s 22ms/step\n",
      "1/1 [==============================] - 0s 25ms/step\n",
      "1/1 [==============================] - 0s 22ms/step\n",
      "1/1 [==============================] - 0s 22ms/step\n",
      "1/1 [==============================] - 0s 23ms/step\n",
      "1/1 [==============================] - 0s 22ms/step\n",
      "1/1 [==============================] - 0s 22ms/step\n",
      "1/1 [==============================] - 0s 21ms/step\n",
      "1/1 [==============================] - 0s 22ms/step\n",
      "1/1 [==============================] - 0s 22ms/step\n",
      "1/1 [==============================] - 0s 22ms/step\n",
      "Predicted summary:   end end end end end end end end end end end end\n",
      "\n",
      "# 8 News:  south korean president moon jaein wednesday said high possibility military conflict north korea recently tested ballistic missile defiance un security council resolutions adding north koreas nuclear capabilities seem advanced rapidly moon claimed country ready capable striking back case attack \n",
      "Original summary:  start high possibility conflict north korea korean prez end \n",
      "1/1 [==============================] - 0s 78ms/step\n",
      "1/1 [==============================] - 0s 23ms/step\n",
      "1/1 [==============================] - 0s 22ms/step\n",
      "1/1 [==============================] - 0s 24ms/step\n",
      "1/1 [==============================] - 0s 22ms/step\n",
      "1/1 [==============================] - 0s 22ms/step\n",
      "1/1 [==============================] - 0s 24ms/step\n",
      "1/1 [==============================] - 0s 23ms/step\n",
      "1/1 [==============================] - 0s 23ms/step\n",
      "1/1 [==============================] - 0s 22ms/step\n",
      "1/1 [==============================] - 0s 22ms/step\n",
      "1/1 [==============================] - 0s 22ms/step\n",
      "1/1 [==============================] - 0s 22ms/step\n",
      "Predicted summary:   end end end end end end end end end end end end\n",
      "\n",
      "# 9 News:  former indian football player renedy singh hails manipur visited families eight indias teams players hail state former player instagram post following visits requested politicians public figures help players families travel delhi watch sons matches \n",
      "Original summary:  start exindian footballer visits players families wc end \n",
      "1/1 [==============================] - 0s 79ms/step\n",
      "1/1 [==============================] - 0s 22ms/step\n",
      "1/1 [==============================] - 0s 28ms/step\n",
      "1/1 [==============================] - 0s 23ms/step\n",
      "1/1 [==============================] - 0s 23ms/step\n",
      "1/1 [==============================] - 0s 22ms/step\n",
      "1/1 [==============================] - 0s 22ms/step\n",
      "1/1 [==============================] - 0s 22ms/step\n",
      "1/1 [==============================] - 0s 37ms/step\n",
      "1/1 [==============================] - 0s 22ms/step\n",
      "1/1 [==============================] - 0s 23ms/step\n",
      "1/1 [==============================] - 0s 23ms/step\n",
      "1/1 [==============================] - 0s 22ms/step\n",
      "Predicted summary:   end end end end end end end end end end end end\n",
      "\n",
      "# 10 News:  billionaire mukesh ambani chairman md indias secondlargest company reliance industries ranked nd forbes worlds powerful people list chinese president xi jinping topped list men women make world turn prime minister narendra modi ranked ninth microsofts indiaborn ceo satya nadella th position \n",
      "Original summary:  start mukesh ambani forbes worlds powerful people list end \n",
      "1/1 [==============================] - 0s 79ms/step\n",
      "1/1 [==============================] - 0s 22ms/step\n",
      "1/1 [==============================] - 0s 22ms/step\n",
      "1/1 [==============================] - 0s 22ms/step\n",
      "1/1 [==============================] - 0s 23ms/step\n",
      "1/1 [==============================] - 0s 22ms/step\n",
      "1/1 [==============================] - 0s 22ms/step\n",
      "1/1 [==============================] - 0s 23ms/step\n",
      "1/1 [==============================] - 0s 23ms/step\n",
      "1/1 [==============================] - 0s 23ms/step\n",
      "1/1 [==============================] - 0s 22ms/step\n",
      "1/1 [==============================] - 0s 26ms/step\n",
      "1/1 [==============================] - 0s 24ms/step\n",
      "Predicted summary:   end end end end end end end end end end end end\n",
      "\n"
     ]
    }
   ],
   "source": [
    "# Testing on training data\n",
    "for i in range(0, 10):\n",
    "    print(f\"# {i+1} News: \", seq2text(x_train_padded[i]))\n",
    "    print(\"Original summary: \", seq2summary(y_train_padded[i]))\n",
    "    print(\n",
    "        \"Predicted summary: \",\n",
    "        decode_sequence_func(\n",
    "            x_train_padded[i].reshape(1, max_text_len), encoder_model,\n",
    "            decoder_model\n",
    "        )\n",
    "    )\n",
    "    print()"
   ]
  },
  {
   "cell_type": "code",
   "execution_count": 60,
   "id": "ffcdbf9c",
   "metadata": {
    "execution": {
     "iopub.execute_input": "2023-04-22T13:38:24.077070Z",
     "iopub.status.busy": "2023-04-22T13:38:24.076353Z",
     "iopub.status.idle": "2023-04-22T13:38:57.381711Z",
     "shell.execute_reply": "2023-04-22T13:38:57.380632Z",
     "shell.execute_reply.started": "2023-04-22T13:38:24.077033Z"
    }
   },
   "outputs": [],
   "source": [
    "from keras.models import load_model\n",
    "\n",
    "model = load_model('/kaggle/working/dl_innovative.h5')"
   ]
  },
  {
   "cell_type": "code",
   "execution_count": 61,
   "id": "d11bf3aa",
   "metadata": {
    "execution": {
     "iopub.execute_input": "2023-04-22T13:42:28.878114Z",
     "iopub.status.busy": "2023-04-22T13:42:28.877144Z",
     "iopub.status.idle": "2023-04-22T13:42:28.888334Z",
     "shell.execute_reply": "2023-04-22T13:42:28.886635Z",
     "shell.execute_reply.started": "2023-04-22T13:42:28.878073Z"
    }
   },
   "outputs": [
    {
     "data": {
      "text/plain": [
       "<keras.engine.functional.Functional at 0x740a621c82d0>"
      ]
     },
     "execution_count": 61,
     "metadata": {},
     "output_type": "execute_result"
    }
   ],
   "source": [
    "model"
   ]
  },
  {
   "cell_type": "code",
   "execution_count": null,
   "id": "035defce",
   "metadata": {},
   "outputs": [],
   "source": []
  }
 ],
 "metadata": {
  "kernelspec": {
   "display_name": "Python 3 (ipykernel)",
   "language": "python",
   "name": "python3"
  },
  "language_info": {
   "codemirror_mode": {
    "name": "ipython",
    "version": 3
   },
   "file_extension": ".py",
   "mimetype": "text/x-python",
   "name": "python",
   "nbconvert_exporter": "python",
   "pygments_lexer": "ipython3",
   "version": "3.10.9"
  }
 },
 "nbformat": 4,
 "nbformat_minor": 5
}
